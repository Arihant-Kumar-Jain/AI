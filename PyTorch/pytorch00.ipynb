{
 "cells": [
  {
   "cell_type": "code",
   "execution_count": 1,
   "id": "da7a5594",
   "metadata": {
    "_cell_guid": "b1076dfc-b9ad-4769-8c92-a6c4dae69d19",
    "_uuid": "8f2839f25d086af736a60e9eeb907d3b93b6e0e5",
    "execution": {
     "iopub.execute_input": "2025-07-17T06:38:29.681687Z",
     "iopub.status.busy": "2025-07-17T06:38:29.681268Z",
     "iopub.status.idle": "2025-07-17T06:38:37.076416Z",
     "shell.execute_reply": "2025-07-17T06:38:37.075421Z"
    },
    "papermill": {
     "duration": 7.407623,
     "end_time": "2025-07-17T06:38:37.078253",
     "exception": false,
     "start_time": "2025-07-17T06:38:29.670630",
     "status": "completed"
    },
    "tags": []
   },
   "outputs": [],
   "source": [
    "import torch\n",
    "import numpy\n",
    "import matplotlib.pyplot as plt\n",
    "import pandas as pd"
   ]
  },
  {
   "cell_type": "code",
   "execution_count": 2,
   "id": "e7d15151",
   "metadata": {
    "execution": {
     "iopub.execute_input": "2025-07-17T06:38:37.097277Z",
     "iopub.status.busy": "2025-07-17T06:38:37.096868Z",
     "iopub.status.idle": "2025-07-17T06:38:37.156641Z",
     "shell.execute_reply": "2025-07-17T06:38:37.155624Z"
    },
    "papermill": {
     "duration": 0.070941,
     "end_time": "2025-07-17T06:38:37.158270",
     "exception": false,
     "start_time": "2025-07-17T06:38:37.087329",
     "status": "completed"
    },
    "tags": []
   },
   "outputs": [
    {
     "data": {
      "text/plain": [
       "tensor(7)"
      ]
     },
     "execution_count": 2,
     "metadata": {},
     "output_type": "execute_result"
    }
   ],
   "source": [
    "scalar = torch.tensor(7)\n",
    "scalar"
   ]
  },
  {
   "cell_type": "code",
   "execution_count": 3,
   "id": "abbe9771",
   "metadata": {
    "execution": {
     "iopub.execute_input": "2025-07-17T06:38:37.178701Z",
     "iopub.status.busy": "2025-07-17T06:38:37.178318Z",
     "iopub.status.idle": "2025-07-17T06:38:37.184838Z",
     "shell.execute_reply": "2025-07-17T06:38:37.183936Z"
    },
    "papermill": {
     "duration": 0.019051,
     "end_time": "2025-07-17T06:38:37.186213",
     "exception": false,
     "start_time": "2025-07-17T06:38:37.167162",
     "status": "completed"
    },
    "tags": []
   },
   "outputs": [
    {
     "data": {
      "text/plain": [
       "0"
      ]
     },
     "execution_count": 3,
     "metadata": {},
     "output_type": "execute_result"
    }
   ],
   "source": [
    "scalar.ndim"
   ]
  },
  {
   "cell_type": "code",
   "execution_count": 4,
   "id": "ea99cc04",
   "metadata": {
    "execution": {
     "iopub.execute_input": "2025-07-17T06:38:37.205245Z",
     "iopub.status.busy": "2025-07-17T06:38:37.204913Z",
     "iopub.status.idle": "2025-07-17T06:38:37.210810Z",
     "shell.execute_reply": "2025-07-17T06:38:37.209817Z"
    },
    "papermill": {
     "duration": 0.016952,
     "end_time": "2025-07-17T06:38:37.212230",
     "exception": false,
     "start_time": "2025-07-17T06:38:37.195278",
     "status": "completed"
    },
    "tags": []
   },
   "outputs": [
    {
     "data": {
      "text/plain": [
       "7"
      ]
     },
     "execution_count": 4,
     "metadata": {},
     "output_type": "execute_result"
    }
   ],
   "source": [
    "scalar.item()"
   ]
  },
  {
   "cell_type": "code",
   "execution_count": 5,
   "id": "c96b8653",
   "metadata": {
    "execution": {
     "iopub.execute_input": "2025-07-17T06:38:37.231061Z",
     "iopub.status.busy": "2025-07-17T06:38:37.230753Z",
     "iopub.status.idle": "2025-07-17T06:38:37.235103Z",
     "shell.execute_reply": "2025-07-17T06:38:37.234238Z"
    },
    "papermill": {
     "duration": 0.015568,
     "end_time": "2025-07-17T06:38:37.236800",
     "exception": false,
     "start_time": "2025-07-17T06:38:37.221232",
     "status": "completed"
    },
    "tags": []
   },
   "outputs": [],
   "source": [
    "vector = torch.tensor([7,7])"
   ]
  },
  {
   "cell_type": "code",
   "execution_count": 6,
   "id": "145804cd",
   "metadata": {
    "execution": {
     "iopub.execute_input": "2025-07-17T06:38:37.256399Z",
     "iopub.status.busy": "2025-07-17T06:38:37.256052Z",
     "iopub.status.idle": "2025-07-17T06:38:37.263160Z",
     "shell.execute_reply": "2025-07-17T06:38:37.262245Z"
    },
    "papermill": {
     "duration": 0.018746,
     "end_time": "2025-07-17T06:38:37.264806",
     "exception": false,
     "start_time": "2025-07-17T06:38:37.246060",
     "status": "completed"
    },
    "tags": []
   },
   "outputs": [
    {
     "data": {
      "text/plain": [
       "tensor([7, 7])"
      ]
     },
     "execution_count": 6,
     "metadata": {},
     "output_type": "execute_result"
    }
   ],
   "source": [
    "vector"
   ]
  },
  {
   "cell_type": "code",
   "execution_count": 7,
   "id": "ed76d45b",
   "metadata": {
    "execution": {
     "iopub.execute_input": "2025-07-17T06:38:37.284483Z",
     "iopub.status.busy": "2025-07-17T06:38:37.284130Z",
     "iopub.status.idle": "2025-07-17T06:38:37.289568Z",
     "shell.execute_reply": "2025-07-17T06:38:37.288714Z"
    },
    "papermill": {
     "duration": 0.017293,
     "end_time": "2025-07-17T06:38:37.291082",
     "exception": false,
     "start_time": "2025-07-17T06:38:37.273789",
     "status": "completed"
    },
    "tags": []
   },
   "outputs": [
    {
     "data": {
      "text/plain": [
       "1"
      ]
     },
     "execution_count": 7,
     "metadata": {},
     "output_type": "execute_result"
    }
   ],
   "source": [
    "vector.ndim"
   ]
  },
  {
   "cell_type": "code",
   "execution_count": 8,
   "id": "0dde93e7",
   "metadata": {
    "execution": {
     "iopub.execute_input": "2025-07-17T06:38:37.310750Z",
     "iopub.status.busy": "2025-07-17T06:38:37.310446Z",
     "iopub.status.idle": "2025-07-17T06:38:37.316419Z",
     "shell.execute_reply": "2025-07-17T06:38:37.315441Z"
    },
    "papermill": {
     "duration": 0.017953,
     "end_time": "2025-07-17T06:38:37.318109",
     "exception": false,
     "start_time": "2025-07-17T06:38:37.300156",
     "status": "completed"
    },
    "tags": []
   },
   "outputs": [
    {
     "data": {
      "text/plain": [
       "torch.Size([2])"
      ]
     },
     "execution_count": 8,
     "metadata": {},
     "output_type": "execute_result"
    }
   ],
   "source": [
    "vector.shape"
   ]
  },
  {
   "cell_type": "markdown",
   "id": "15697f4b",
   "metadata": {
    "papermill": {
     "duration": 0.008771,
     "end_time": "2025-07-17T06:38:37.336108",
     "exception": false,
     "start_time": "2025-07-17T06:38:37.327337",
     "status": "completed"
    },
    "tags": []
   },
   "source": []
  },
  {
   "cell_type": "code",
   "execution_count": 9,
   "id": "4bcb38fd",
   "metadata": {
    "execution": {
     "iopub.execute_input": "2025-07-17T06:38:37.355242Z",
     "iopub.status.busy": "2025-07-17T06:38:37.354916Z",
     "iopub.status.idle": "2025-07-17T06:38:37.364907Z",
     "shell.execute_reply": "2025-07-17T06:38:37.364044Z"
    },
    "papermill": {
     "duration": 0.021472,
     "end_time": "2025-07-17T06:38:37.366430",
     "exception": false,
     "start_time": "2025-07-17T06:38:37.344958",
     "status": "completed"
    },
    "tags": []
   },
   "outputs": [
    {
     "data": {
      "text/plain": [
       "tensor([[ 7,  8],\n",
       "        [ 9, 10]])"
      ]
     },
     "execution_count": 9,
     "metadata": {},
     "output_type": "execute_result"
    }
   ],
   "source": [
    "MATRIX = torch.tensor([[7,8],\n",
    "                     [9,10]])\n",
    "MATRIX"
   ]
  },
  {
   "cell_type": "code",
   "execution_count": 10,
   "id": "fa74bd87",
   "metadata": {
    "execution": {
     "iopub.execute_input": "2025-07-17T06:38:37.386390Z",
     "iopub.status.busy": "2025-07-17T06:38:37.385919Z",
     "iopub.status.idle": "2025-07-17T06:38:37.391950Z",
     "shell.execute_reply": "2025-07-17T06:38:37.391094Z"
    },
    "papermill": {
     "duration": 0.017807,
     "end_time": "2025-07-17T06:38:37.393498",
     "exception": false,
     "start_time": "2025-07-17T06:38:37.375691",
     "status": "completed"
    },
    "tags": []
   },
   "outputs": [
    {
     "data": {
      "text/plain": [
       "2"
      ]
     },
     "execution_count": 10,
     "metadata": {},
     "output_type": "execute_result"
    }
   ],
   "source": [
    "MATRIX.ndim"
   ]
  },
  {
   "cell_type": "code",
   "execution_count": 11,
   "id": "3bdf8776",
   "metadata": {
    "execution": {
     "iopub.execute_input": "2025-07-17T06:38:37.413947Z",
     "iopub.status.busy": "2025-07-17T06:38:37.413583Z",
     "iopub.status.idle": "2025-07-17T06:38:37.419263Z",
     "shell.execute_reply": "2025-07-17T06:38:37.418427Z"
    },
    "papermill": {
     "duration": 0.017875,
     "end_time": "2025-07-17T06:38:37.420763",
     "exception": false,
     "start_time": "2025-07-17T06:38:37.402888",
     "status": "completed"
    },
    "tags": []
   },
   "outputs": [
    {
     "data": {
      "text/plain": [
       "torch.Size([2, 2])"
      ]
     },
     "execution_count": 11,
     "metadata": {},
     "output_type": "execute_result"
    }
   ],
   "source": [
    "MATRIX.shape"
   ]
  },
  {
   "cell_type": "code",
   "execution_count": 12,
   "id": "3a244f55",
   "metadata": {
    "execution": {
     "iopub.execute_input": "2025-07-17T06:38:37.441251Z",
     "iopub.status.busy": "2025-07-17T06:38:37.440930Z",
     "iopub.status.idle": "2025-07-17T06:38:37.447536Z",
     "shell.execute_reply": "2025-07-17T06:38:37.446645Z"
    },
    "papermill": {
     "duration": 0.018934,
     "end_time": "2025-07-17T06:38:37.449059",
     "exception": false,
     "start_time": "2025-07-17T06:38:37.430125",
     "status": "completed"
    },
    "tags": []
   },
   "outputs": [
    {
     "data": {
      "text/plain": [
       "tensor([[[ 7,  8],\n",
       "         [ 9, 10],\n",
       "         [11, 12]]])"
      ]
     },
     "execution_count": 12,
     "metadata": {},
     "output_type": "execute_result"
    }
   ],
   "source": [
    "TENSOR = torch.tensor([[[7,8],\n",
    "                     [9,10],\n",
    "                       [11,12]]])\n",
    "TENSOR"
   ]
  },
  {
   "cell_type": "code",
   "execution_count": 13,
   "id": "f7f14b03",
   "metadata": {
    "execution": {
     "iopub.execute_input": "2025-07-17T06:38:37.469262Z",
     "iopub.status.busy": "2025-07-17T06:38:37.468932Z",
     "iopub.status.idle": "2025-07-17T06:38:37.474176Z",
     "shell.execute_reply": "2025-07-17T06:38:37.473360Z"
    },
    "papermill": {
     "duration": 0.016921,
     "end_time": "2025-07-17T06:38:37.475636",
     "exception": false,
     "start_time": "2025-07-17T06:38:37.458715",
     "status": "completed"
    },
    "tags": []
   },
   "outputs": [
    {
     "data": {
      "text/plain": [
       "3"
      ]
     },
     "execution_count": 13,
     "metadata": {},
     "output_type": "execute_result"
    }
   ],
   "source": [
    "TENSOR.ndim"
   ]
  },
  {
   "cell_type": "code",
   "execution_count": 14,
   "id": "28abfa53",
   "metadata": {
    "execution": {
     "iopub.execute_input": "2025-07-17T06:38:37.495723Z",
     "iopub.status.busy": "2025-07-17T06:38:37.495422Z",
     "iopub.status.idle": "2025-07-17T06:38:37.501129Z",
     "shell.execute_reply": "2025-07-17T06:38:37.500185Z"
    },
    "papermill": {
     "duration": 0.017444,
     "end_time": "2025-07-17T06:38:37.502718",
     "exception": false,
     "start_time": "2025-07-17T06:38:37.485274",
     "status": "completed"
    },
    "tags": []
   },
   "outputs": [
    {
     "data": {
      "text/plain": [
       "torch.Size([1, 3, 2])"
      ]
     },
     "execution_count": 14,
     "metadata": {},
     "output_type": "execute_result"
    }
   ],
   "source": [
    "TENSOR.shape"
   ]
  },
  {
   "cell_type": "code",
   "execution_count": 15,
   "id": "0eb228c9",
   "metadata": {
    "execution": {
     "iopub.execute_input": "2025-07-17T06:38:37.591524Z",
     "iopub.status.busy": "2025-07-17T06:38:37.591163Z",
     "iopub.status.idle": "2025-07-17T06:38:37.598635Z",
     "shell.execute_reply": "2025-07-17T06:38:37.597773Z"
    },
    "papermill": {
     "duration": 0.020803,
     "end_time": "2025-07-17T06:38:37.600618",
     "exception": false,
     "start_time": "2025-07-17T06:38:37.579815",
     "status": "completed"
    },
    "tags": []
   },
   "outputs": [
    {
     "data": {
      "text/plain": [
       "tensor([[ 7,  8],\n",
       "        [ 9, 10],\n",
       "        [11, 12]])"
      ]
     },
     "execution_count": 15,
     "metadata": {},
     "output_type": "execute_result"
    }
   ],
   "source": [
    "TENSOR[0]"
   ]
  },
  {
   "cell_type": "code",
   "execution_count": 16,
   "id": "d7268ff6",
   "metadata": {
    "execution": {
     "iopub.execute_input": "2025-07-17T06:38:37.623890Z",
     "iopub.status.busy": "2025-07-17T06:38:37.623579Z",
     "iopub.status.idle": "2025-07-17T06:38:37.637394Z",
     "shell.execute_reply": "2025-07-17T06:38:37.636433Z"
    },
    "papermill": {
     "duration": 0.028168,
     "end_time": "2025-07-17T06:38:37.639224",
     "exception": false,
     "start_time": "2025-07-17T06:38:37.611056",
     "status": "completed"
    },
    "tags": []
   },
   "outputs": [],
   "source": [
    "random_tensor = torch.randn(3,4)"
   ]
  },
  {
   "cell_type": "code",
   "execution_count": 17,
   "id": "1e474555",
   "metadata": {
    "execution": {
     "iopub.execute_input": "2025-07-17T06:38:37.661246Z",
     "iopub.status.busy": "2025-07-17T06:38:37.660893Z",
     "iopub.status.idle": "2025-07-17T06:38:37.732368Z",
     "shell.execute_reply": "2025-07-17T06:38:37.731513Z"
    },
    "papermill": {
     "duration": 0.084138,
     "end_time": "2025-07-17T06:38:37.733922",
     "exception": false,
     "start_time": "2025-07-17T06:38:37.649784",
     "status": "completed"
    },
    "tags": []
   },
   "outputs": [
    {
     "data": {
      "text/plain": [
       "tensor([[ 0.3555, -0.6766, -0.7269, -1.1835],\n",
       "        [ 2.0004, -2.1143,  0.0949, -0.8974],\n",
       "        [-0.8327,  0.1024, -2.5880,  1.6983]])"
      ]
     },
     "execution_count": 17,
     "metadata": {},
     "output_type": "execute_result"
    }
   ],
   "source": [
    "random_tensor"
   ]
  },
  {
   "cell_type": "code",
   "execution_count": 18,
   "id": "dd1c2387",
   "metadata": {
    "execution": {
     "iopub.execute_input": "2025-07-17T06:38:37.754748Z",
     "iopub.status.busy": "2025-07-17T06:38:37.754465Z",
     "iopub.status.idle": "2025-07-17T06:38:37.759311Z",
     "shell.execute_reply": "2025-07-17T06:38:37.758527Z"
    },
    "papermill": {
     "duration": 0.017082,
     "end_time": "2025-07-17T06:38:37.760855",
     "exception": false,
     "start_time": "2025-07-17T06:38:37.743773",
     "status": "completed"
    },
    "tags": []
   },
   "outputs": [],
   "source": [
    "random_image_size_tensor = torch.randn(size=(3,224,224))"
   ]
  },
  {
   "cell_type": "code",
   "execution_count": 19,
   "id": "df5f3f98",
   "metadata": {
    "execution": {
     "iopub.execute_input": "2025-07-17T06:38:37.782559Z",
     "iopub.status.busy": "2025-07-17T06:38:37.782219Z",
     "iopub.status.idle": "2025-07-17T06:38:37.787907Z",
     "shell.execute_reply": "2025-07-17T06:38:37.787098Z"
    },
    "papermill": {
     "duration": 0.018557,
     "end_time": "2025-07-17T06:38:37.789189",
     "exception": false,
     "start_time": "2025-07-17T06:38:37.770632",
     "status": "completed"
    },
    "tags": []
   },
   "outputs": [
    {
     "data": {
      "text/plain": [
       "(torch.Size([3, 224, 224]), 3)"
      ]
     },
     "execution_count": 19,
     "metadata": {},
     "output_type": "execute_result"
    }
   ],
   "source": [
    "random_image_size_tensor.shape,random_image_size_tensor.ndim"
   ]
  },
  {
   "cell_type": "code",
   "execution_count": 20,
   "id": "f3cd1299",
   "metadata": {
    "execution": {
     "iopub.execute_input": "2025-07-17T06:38:37.809973Z",
     "iopub.status.busy": "2025-07-17T06:38:37.809625Z",
     "iopub.status.idle": "2025-07-17T06:38:37.816136Z",
     "shell.execute_reply": "2025-07-17T06:38:37.815396Z"
    },
    "papermill": {
     "duration": 0.0186,
     "end_time": "2025-07-17T06:38:37.817559",
     "exception": false,
     "start_time": "2025-07-17T06:38:37.798959",
     "status": "completed"
    },
    "tags": []
   },
   "outputs": [
    {
     "data": {
      "text/plain": [
       "tensor([[0., 0., 0.],\n",
       "        [0., 0., 0.],\n",
       "        [0., 0., 0.],\n",
       "        [0., 0., 0.]])"
      ]
     },
     "execution_count": 20,
     "metadata": {},
     "output_type": "execute_result"
    }
   ],
   "source": [
    "zeros = torch.zeros(size=(4,3))\n",
    "zeros"
   ]
  },
  {
   "cell_type": "code",
   "execution_count": 21,
   "id": "ea7eae92",
   "metadata": {
    "execution": {
     "iopub.execute_input": "2025-07-17T06:38:37.839185Z",
     "iopub.status.busy": "2025-07-17T06:38:37.838383Z",
     "iopub.status.idle": "2025-07-17T06:38:37.850097Z",
     "shell.execute_reply": "2025-07-17T06:38:37.849095Z"
    },
    "papermill": {
     "duration": 0.024201,
     "end_time": "2025-07-17T06:38:37.851709",
     "exception": false,
     "start_time": "2025-07-17T06:38:37.827508",
     "status": "completed"
    },
    "tags": []
   },
   "outputs": [
    {
     "data": {
      "text/plain": [
       "tensor([[1., 1., 1., 1.],\n",
       "        [1., 1., 1., 1.],\n",
       "        [1., 1., 1., 1.]])"
      ]
     },
     "execution_count": 21,
     "metadata": {},
     "output_type": "execute_result"
    }
   ],
   "source": [
    "ones = torch.ones(size=(3,4))\n",
    "ones"
   ]
  },
  {
   "cell_type": "code",
   "execution_count": 22,
   "id": "004cda86",
   "metadata": {
    "execution": {
     "iopub.execute_input": "2025-07-17T06:38:37.872971Z",
     "iopub.status.busy": "2025-07-17T06:38:37.872367Z",
     "iopub.status.idle": "2025-07-17T06:38:37.877800Z",
     "shell.execute_reply": "2025-07-17T06:38:37.877060Z"
    },
    "papermill": {
     "duration": 0.017535,
     "end_time": "2025-07-17T06:38:37.879148",
     "exception": false,
     "start_time": "2025-07-17T06:38:37.861613",
     "status": "completed"
    },
    "tags": []
   },
   "outputs": [
    {
     "data": {
      "text/plain": [
       "torch.float32"
      ]
     },
     "execution_count": 22,
     "metadata": {},
     "output_type": "execute_result"
    }
   ],
   "source": [
    "ones.dtype"
   ]
  },
  {
   "cell_type": "code",
   "execution_count": 23,
   "id": "8c838322",
   "metadata": {
    "execution": {
     "iopub.execute_input": "2025-07-17T06:38:37.901256Z",
     "iopub.status.busy": "2025-07-17T06:38:37.900640Z",
     "iopub.status.idle": "2025-07-17T06:38:37.906081Z",
     "shell.execute_reply": "2025-07-17T06:38:37.905328Z"
    },
    "papermill": {
     "duration": 0.017653,
     "end_time": "2025-07-17T06:38:37.907317",
     "exception": false,
     "start_time": "2025-07-17T06:38:37.889664",
     "status": "completed"
    },
    "tags": []
   },
   "outputs": [
    {
     "data": {
      "text/plain": [
       "torch.float32"
      ]
     },
     "execution_count": 23,
     "metadata": {},
     "output_type": "execute_result"
    }
   ],
   "source": [
    "random_tensor.dtype"
   ]
  },
  {
   "cell_type": "code",
   "execution_count": 24,
   "id": "38c1074b",
   "metadata": {
    "execution": {
     "iopub.execute_input": "2025-07-17T06:38:37.929162Z",
     "iopub.status.busy": "2025-07-17T06:38:37.928875Z",
     "iopub.status.idle": "2025-07-17T06:38:37.940193Z",
     "shell.execute_reply": "2025-07-17T06:38:37.939419Z"
    },
    "papermill": {
     "duration": 0.023762,
     "end_time": "2025-07-17T06:38:37.941679",
     "exception": false,
     "start_time": "2025-07-17T06:38:37.917917",
     "status": "completed"
    },
    "tags": []
   },
   "outputs": [
    {
     "data": {
      "text/plain": [
       "tensor([ 0,  1,  2,  3,  4,  5,  6,  7,  8,  9, 10])"
      ]
     },
     "execution_count": 24,
     "metadata": {},
     "output_type": "execute_result"
    }
   ],
   "source": [
    "one_to_ten = torch.arange(0,11,1)\n",
    "one_to_ten"
   ]
  },
  {
   "cell_type": "code",
   "execution_count": 25,
   "id": "a104aa17",
   "metadata": {
    "execution": {
     "iopub.execute_input": "2025-07-17T06:38:37.963686Z",
     "iopub.status.busy": "2025-07-17T06:38:37.963308Z",
     "iopub.status.idle": "2025-07-17T06:38:37.970144Z",
     "shell.execute_reply": "2025-07-17T06:38:37.969302Z"
    },
    "papermill": {
     "duration": 0.019497,
     "end_time": "2025-07-17T06:38:37.971576",
     "exception": false,
     "start_time": "2025-07-17T06:38:37.952079",
     "status": "completed"
    },
    "tags": []
   },
   "outputs": [
    {
     "data": {
      "text/plain": [
       "tensor([0, 0, 0, 0, 0, 0, 0, 0, 0, 0, 0])"
      ]
     },
     "execution_count": 25,
     "metadata": {},
     "output_type": "execute_result"
    }
   ],
   "source": [
    "torch.zeros_like(one_to_ten)"
   ]
  },
  {
   "cell_type": "code",
   "execution_count": 26,
   "id": "ea1f7628",
   "metadata": {
    "execution": {
     "iopub.execute_input": "2025-07-17T06:38:37.993869Z",
     "iopub.status.busy": "2025-07-17T06:38:37.993526Z",
     "iopub.status.idle": "2025-07-17T06:38:37.998104Z",
     "shell.execute_reply": "2025-07-17T06:38:37.997241Z"
    },
    "papermill": {
     "duration": 0.017175,
     "end_time": "2025-07-17T06:38:37.999580",
     "exception": false,
     "start_time": "2025-07-17T06:38:37.982405",
     "status": "completed"
    },
    "tags": []
   },
   "outputs": [],
   "source": [
    "float_32_tensor = torch.tensor([3.0,6.0,9.0],\n",
    "                              dtype = None,\n",
    "                              device = None,\n",
    "                              requires_grad = False)"
   ]
  },
  {
   "cell_type": "code",
   "execution_count": 27,
   "id": "cd69a21d",
   "metadata": {
    "execution": {
     "iopub.execute_input": "2025-07-17T06:38:38.021210Z",
     "iopub.status.busy": "2025-07-17T06:38:38.020879Z",
     "iopub.status.idle": "2025-07-17T06:38:38.027549Z",
     "shell.execute_reply": "2025-07-17T06:38:38.026556Z"
    },
    "papermill": {
     "duration": 0.019447,
     "end_time": "2025-07-17T06:38:38.029233",
     "exception": false,
     "start_time": "2025-07-17T06:38:38.009786",
     "status": "completed"
    },
    "tags": []
   },
   "outputs": [
    {
     "data": {
      "text/plain": [
       "tensor([3., 6., 9.])"
      ]
     },
     "execution_count": 27,
     "metadata": {},
     "output_type": "execute_result"
    }
   ],
   "source": [
    "float_32_tensor"
   ]
  },
  {
   "cell_type": "code",
   "execution_count": 28,
   "id": "0a1c535e",
   "metadata": {
    "execution": {
     "iopub.execute_input": "2025-07-17T06:38:38.051488Z",
     "iopub.status.busy": "2025-07-17T06:38:38.051128Z",
     "iopub.status.idle": "2025-07-17T06:38:38.057645Z",
     "shell.execute_reply": "2025-07-17T06:38:38.056653Z"
    },
    "papermill": {
     "duration": 0.019628,
     "end_time": "2025-07-17T06:38:38.059392",
     "exception": false,
     "start_time": "2025-07-17T06:38:38.039764",
     "status": "completed"
    },
    "tags": []
   },
   "outputs": [
    {
     "data": {
      "text/plain": [
       "torch.float32"
      ]
     },
     "execution_count": 28,
     "metadata": {},
     "output_type": "execute_result"
    }
   ],
   "source": [
    "float_32_tensor.dtype"
   ]
  },
  {
   "cell_type": "code",
   "execution_count": 29,
   "id": "8a74bb33",
   "metadata": {
    "execution": {
     "iopub.execute_input": "2025-07-17T06:38:38.081856Z",
     "iopub.status.busy": "2025-07-17T06:38:38.081220Z",
     "iopub.status.idle": "2025-07-17T06:38:38.085993Z",
     "shell.execute_reply": "2025-07-17T06:38:38.085197Z"
    },
    "papermill": {
     "duration": 0.01787,
     "end_time": "2025-07-17T06:38:38.087781",
     "exception": false,
     "start_time": "2025-07-17T06:38:38.069911",
     "status": "completed"
    },
    "tags": []
   },
   "outputs": [],
   "source": [
    "float_16_tensor = torch.tensor([3.0,7.0,9.0],\n",
    "                              dtype = torch.float16,\n",
    "                              device = None,\n",
    "                              requires_grad = False)"
   ]
  },
  {
   "cell_type": "code",
   "execution_count": 30,
   "id": "fe3e5ffc",
   "metadata": {
    "execution": {
     "iopub.execute_input": "2025-07-17T06:38:38.111244Z",
     "iopub.status.busy": "2025-07-17T06:38:38.110971Z",
     "iopub.status.idle": "2025-07-17T06:38:38.120191Z",
     "shell.execute_reply": "2025-07-17T06:38:38.119441Z"
    },
    "papermill": {
     "duration": 0.02339,
     "end_time": "2025-07-17T06:38:38.121858",
     "exception": false,
     "start_time": "2025-07-17T06:38:38.098468",
     "status": "completed"
    },
    "tags": []
   },
   "outputs": [
    {
     "data": {
      "text/plain": [
       "tensor([3., 7., 9.], dtype=torch.float16)"
      ]
     },
     "execution_count": 30,
     "metadata": {},
     "output_type": "execute_result"
    }
   ],
   "source": [
    "float_16_tensor"
   ]
  },
  {
   "cell_type": "code",
   "execution_count": 31,
   "id": "b070d126",
   "metadata": {
    "execution": {
     "iopub.execute_input": "2025-07-17T06:38:38.144261Z",
     "iopub.status.busy": "2025-07-17T06:38:38.143958Z",
     "iopub.status.idle": "2025-07-17T06:38:38.149545Z",
     "shell.execute_reply": "2025-07-17T06:38:38.148753Z"
    },
    "papermill": {
     "duration": 0.018439,
     "end_time": "2025-07-17T06:38:38.150909",
     "exception": false,
     "start_time": "2025-07-17T06:38:38.132470",
     "status": "completed"
    },
    "tags": []
   },
   "outputs": [
    {
     "data": {
      "text/plain": [
       "torch.float16"
      ]
     },
     "execution_count": 31,
     "metadata": {},
     "output_type": "execute_result"
    }
   ],
   "source": [
    "float_16_tensor.dtype"
   ]
  },
  {
   "cell_type": "code",
   "execution_count": 32,
   "id": "7a05aa07",
   "metadata": {
    "execution": {
     "iopub.execute_input": "2025-07-17T06:38:38.173894Z",
     "iopub.status.busy": "2025-07-17T06:38:38.173575Z",
     "iopub.status.idle": "2025-07-17T06:38:38.181247Z",
     "shell.execute_reply": "2025-07-17T06:38:38.180284Z"
    },
    "papermill": {
     "duration": 0.021725,
     "end_time": "2025-07-17T06:38:38.183214",
     "exception": false,
     "start_time": "2025-07-17T06:38:38.161489",
     "status": "completed"
    },
    "tags": []
   },
   "outputs": [],
   "source": [
    "float_16_tensor_convert = float_32_tensor.type(torch.float16)"
   ]
  },
  {
   "cell_type": "code",
   "execution_count": 33,
   "id": "d18208d7",
   "metadata": {
    "execution": {
     "iopub.execute_input": "2025-07-17T06:38:38.206045Z",
     "iopub.status.busy": "2025-07-17T06:38:38.205729Z",
     "iopub.status.idle": "2025-07-17T06:38:38.212390Z",
     "shell.execute_reply": "2025-07-17T06:38:38.211482Z"
    },
    "papermill": {
     "duration": 0.019697,
     "end_time": "2025-07-17T06:38:38.213972",
     "exception": false,
     "start_time": "2025-07-17T06:38:38.194275",
     "status": "completed"
    },
    "tags": []
   },
   "outputs": [
    {
     "data": {
      "text/plain": [
       "(tensor([3., 6., 9.], dtype=torch.float16), torch.float16)"
      ]
     },
     "execution_count": 33,
     "metadata": {},
     "output_type": "execute_result"
    }
   ],
   "source": [
    "float_16_tensor_convert, float_16_tensor_convert.dtype"
   ]
  },
  {
   "cell_type": "code",
   "execution_count": 34,
   "id": "af1d57dd",
   "metadata": {
    "execution": {
     "iopub.execute_input": "2025-07-17T06:38:38.236990Z",
     "iopub.status.busy": "2025-07-17T06:38:38.236664Z",
     "iopub.status.idle": "2025-07-17T06:38:38.242550Z",
     "shell.execute_reply": "2025-07-17T06:38:38.241669Z"
    },
    "papermill": {
     "duration": 0.018873,
     "end_time": "2025-07-17T06:38:38.244031",
     "exception": false,
     "start_time": "2025-07-17T06:38:38.225158",
     "status": "completed"
    },
    "tags": []
   },
   "outputs": [
    {
     "data": {
      "text/plain": [
       "torch.float32"
      ]
     },
     "execution_count": 34,
     "metadata": {},
     "output_type": "execute_result"
    }
   ],
   "source": [
    "try1 = float_16_tensor*float_32_tensor\n",
    "try1.dtype"
   ]
  },
  {
   "cell_type": "code",
   "execution_count": 35,
   "id": "6d5b9696",
   "metadata": {
    "execution": {
     "iopub.execute_input": "2025-07-17T06:38:38.267436Z",
     "iopub.status.busy": "2025-07-17T06:38:38.267100Z",
     "iopub.status.idle": "2025-07-17T06:38:38.278384Z",
     "shell.execute_reply": "2025-07-17T06:38:38.277424Z"
    },
    "papermill": {
     "duration": 0.024745,
     "end_time": "2025-07-17T06:38:38.280008",
     "exception": false,
     "start_time": "2025-07-17T06:38:38.255263",
     "status": "completed"
    },
    "tags": []
   },
   "outputs": [
    {
     "data": {
      "text/plain": [
       "tensor([[ 0.3555,  2.0004, -0.8327],\n",
       "        [-0.6766, -2.1143,  0.1024],\n",
       "        [-0.7269,  0.0949, -2.5880],\n",
       "        [-1.1835, -0.8974,  1.6983]])"
      ]
     },
     "execution_count": 35,
     "metadata": {},
     "output_type": "execute_result"
    }
   ],
   "source": [
    "random_tensor.T"
   ]
  },
  {
   "cell_type": "code",
   "execution_count": 36,
   "id": "cf843290",
   "metadata": {
    "execution": {
     "iopub.execute_input": "2025-07-17T06:38:38.302788Z",
     "iopub.status.busy": "2025-07-17T06:38:38.302206Z",
     "iopub.status.idle": "2025-07-17T06:38:38.309989Z",
     "shell.execute_reply": "2025-07-17T06:38:38.309105Z"
    },
    "papermill": {
     "duration": 0.0208,
     "end_time": "2025-07-17T06:38:38.311540",
     "exception": false,
     "start_time": "2025-07-17T06:38:38.290740",
     "status": "completed"
    },
    "tags": []
   },
   "outputs": [
    {
     "data": {
      "text/plain": [
       "(tensor(0), tensor(0))"
      ]
     },
     "execution_count": 36,
     "metadata": {},
     "output_type": "execute_result"
    }
   ],
   "source": [
    "#finding min\n",
    "x = torch.arange(0,101, 10)\n",
    "x.min(), torch.min(x)"
   ]
  },
  {
   "cell_type": "code",
   "execution_count": 37,
   "id": "dd7a0ad4",
   "metadata": {
    "execution": {
     "iopub.execute_input": "2025-07-17T06:38:38.334299Z",
     "iopub.status.busy": "2025-07-17T06:38:38.333988Z",
     "iopub.status.idle": "2025-07-17T06:38:38.340641Z",
     "shell.execute_reply": "2025-07-17T06:38:38.339788Z"
    },
    "papermill": {
     "duration": 0.019803,
     "end_time": "2025-07-17T06:38:38.342255",
     "exception": false,
     "start_time": "2025-07-17T06:38:38.322452",
     "status": "completed"
    },
    "tags": []
   },
   "outputs": [
    {
     "data": {
      "text/plain": [
       "(tensor(100), tensor(100))"
      ]
     },
     "execution_count": 37,
     "metadata": {},
     "output_type": "execute_result"
    }
   ],
   "source": [
    "x.max(), torch.max(x)"
   ]
  },
  {
   "cell_type": "code",
   "execution_count": 38,
   "id": "54046bee",
   "metadata": {
    "execution": {
     "iopub.execute_input": "2025-07-17T06:38:38.365879Z",
     "iopub.status.busy": "2025-07-17T06:38:38.365577Z",
     "iopub.status.idle": "2025-07-17T06:38:38.376334Z",
     "shell.execute_reply": "2025-07-17T06:38:38.375408Z"
    },
    "papermill": {
     "duration": 0.02447,
     "end_time": "2025-07-17T06:38:38.377886",
     "exception": false,
     "start_time": "2025-07-17T06:38:38.353416",
     "status": "completed"
    },
    "tags": []
   },
   "outputs": [
    {
     "data": {
      "text/plain": [
       "(tensor(50.), tensor(50.))"
      ]
     },
     "execution_count": 38,
     "metadata": {},
     "output_type": "execute_result"
    }
   ],
   "source": [
    "torch.mean(x.type(torch.float32)), x.type(torch.float32).mean()"
   ]
  },
  {
   "cell_type": "code",
   "execution_count": 39,
   "id": "c06fb608",
   "metadata": {
    "execution": {
     "iopub.execute_input": "2025-07-17T06:38:38.401710Z",
     "iopub.status.busy": "2025-07-17T06:38:38.401390Z",
     "iopub.status.idle": "2025-07-17T06:38:38.408116Z",
     "shell.execute_reply": "2025-07-17T06:38:38.407173Z"
    },
    "papermill": {
     "duration": 0.020116,
     "end_time": "2025-07-17T06:38:38.409653",
     "exception": false,
     "start_time": "2025-07-17T06:38:38.389537",
     "status": "completed"
    },
    "tags": []
   },
   "outputs": [
    {
     "data": {
      "text/plain": [
       "(tensor(550), tensor(550))"
      ]
     },
     "execution_count": 39,
     "metadata": {},
     "output_type": "execute_result"
    }
   ],
   "source": [
    "torch.sum(x), x.sum()"
   ]
  },
  {
   "cell_type": "code",
   "execution_count": 40,
   "id": "f2b3e439",
   "metadata": {
    "execution": {
     "iopub.execute_input": "2025-07-17T06:38:38.433551Z",
     "iopub.status.busy": "2025-07-17T06:38:38.432761Z",
     "iopub.status.idle": "2025-07-17T06:38:38.441774Z",
     "shell.execute_reply": "2025-07-17T06:38:38.440987Z"
    },
    "papermill": {
     "duration": 0.022388,
     "end_time": "2025-07-17T06:38:38.443228",
     "exception": false,
     "start_time": "2025-07-17T06:38:38.420840",
     "status": "completed"
    },
    "tags": []
   },
   "outputs": [
    {
     "data": {
      "text/plain": [
       "(tensor(0), tensor(0))"
      ]
     },
     "execution_count": 40,
     "metadata": {},
     "output_type": "execute_result"
    }
   ],
   "source": [
    "x.argmin(), torch.argmin(x)"
   ]
  },
  {
   "cell_type": "code",
   "execution_count": 41,
   "id": "0ef0e6f3",
   "metadata": {
    "execution": {
     "iopub.execute_input": "2025-07-17T06:38:38.466391Z",
     "iopub.status.busy": "2025-07-17T06:38:38.466073Z",
     "iopub.status.idle": "2025-07-17T06:38:38.472618Z",
     "shell.execute_reply": "2025-07-17T06:38:38.471693Z"
    },
    "papermill": {
     "duration": 0.019948,
     "end_time": "2025-07-17T06:38:38.474231",
     "exception": false,
     "start_time": "2025-07-17T06:38:38.454283",
     "status": "completed"
    },
    "tags": []
   },
   "outputs": [
    {
     "data": {
      "text/plain": [
       "(tensor(10), tensor(10))"
      ]
     },
     "execution_count": 41,
     "metadata": {},
     "output_type": "execute_result"
    }
   ],
   "source": [
    "x.argmax(), torch.argmax(x)"
   ]
  },
  {
   "cell_type": "code",
   "execution_count": 42,
   "id": "03bbbac1",
   "metadata": {
    "execution": {
     "iopub.execute_input": "2025-07-17T06:38:38.498080Z",
     "iopub.status.busy": "2025-07-17T06:38:38.497451Z",
     "iopub.status.idle": "2025-07-17T06:38:38.504178Z",
     "shell.execute_reply": "2025-07-17T06:38:38.503186Z"
    },
    "papermill": {
     "duration": 0.020068,
     "end_time": "2025-07-17T06:38:38.505499",
     "exception": false,
     "start_time": "2025-07-17T06:38:38.485431",
     "status": "completed"
    },
    "tags": []
   },
   "outputs": [
    {
     "data": {
      "text/plain": [
       "(tensor([1., 2., 3., 4., 5., 6., 7., 8., 9.]), torch.Size([9]))"
      ]
     },
     "execution_count": 42,
     "metadata": {},
     "output_type": "execute_result"
    }
   ],
   "source": [
    "x = torch.arange(1.,10.)\n",
    "x, x.shape"
   ]
  },
  {
   "cell_type": "code",
   "execution_count": 43,
   "id": "5b53e8f8",
   "metadata": {
    "execution": {
     "iopub.execute_input": "2025-07-17T06:38:38.529280Z",
     "iopub.status.busy": "2025-07-17T06:38:38.528978Z",
     "iopub.status.idle": "2025-07-17T06:38:38.536126Z",
     "shell.execute_reply": "2025-07-17T06:38:38.535182Z"
    },
    "papermill": {
     "duration": 0.020698,
     "end_time": "2025-07-17T06:38:38.537554",
     "exception": false,
     "start_time": "2025-07-17T06:38:38.516856",
     "status": "completed"
    },
    "tags": []
   },
   "outputs": [
    {
     "data": {
      "text/plain": [
       "(tensor([[1., 2., 3., 4., 5., 6., 7., 8., 9.]]), torch.Size([1, 9]))"
      ]
     },
     "execution_count": 43,
     "metadata": {},
     "output_type": "execute_result"
    }
   ],
   "source": [
    "x_reshaped = x.reshape(1,9)\n",
    "x_reshaped, x_reshaped.shape"
   ]
  },
  {
   "cell_type": "code",
   "execution_count": 44,
   "id": "87f3e87a",
   "metadata": {
    "execution": {
     "iopub.execute_input": "2025-07-17T06:38:38.561611Z",
     "iopub.status.busy": "2025-07-17T06:38:38.561287Z",
     "iopub.status.idle": "2025-07-17T06:38:38.568060Z",
     "shell.execute_reply": "2025-07-17T06:38:38.567223Z"
    },
    "papermill": {
     "duration": 0.020213,
     "end_time": "2025-07-17T06:38:38.569505",
     "exception": false,
     "start_time": "2025-07-17T06:38:38.549292",
     "status": "completed"
    },
    "tags": []
   },
   "outputs": [
    {
     "data": {
      "text/plain": [
       "tensor([[1., 2., 3.],\n",
       "        [4., 5., 6.],\n",
       "        [7., 8., 9.]])"
      ]
     },
     "execution_count": 44,
     "metadata": {},
     "output_type": "execute_result"
    }
   ],
   "source": [
    "z = x.view(3,3)\n",
    "z"
   ]
  },
  {
   "cell_type": "code",
   "execution_count": 45,
   "id": "a36d060d",
   "metadata": {
    "execution": {
     "iopub.execute_input": "2025-07-17T06:38:38.594251Z",
     "iopub.status.busy": "2025-07-17T06:38:38.593881Z",
     "iopub.status.idle": "2025-07-17T06:38:38.598641Z",
     "shell.execute_reply": "2025-07-17T06:38:38.597716Z"
    },
    "papermill": {
     "duration": 0.019199,
     "end_time": "2025-07-17T06:38:38.600215",
     "exception": false,
     "start_time": "2025-07-17T06:38:38.581016",
     "status": "completed"
    },
    "tags": []
   },
   "outputs": [],
   "source": [
    "#view is different from reshape, as view shares same memory as original, so any change in z,\n",
    "#also changes the x"
   ]
  },
  {
   "cell_type": "code",
   "execution_count": 46,
   "id": "79e02064",
   "metadata": {
    "execution": {
     "iopub.execute_input": "2025-07-17T06:38:38.625925Z",
     "iopub.status.busy": "2025-07-17T06:38:38.625653Z",
     "iopub.status.idle": "2025-07-17T06:38:38.639258Z",
     "shell.execute_reply": "2025-07-17T06:38:38.638371Z"
    },
    "papermill": {
     "duration": 0.028379,
     "end_time": "2025-07-17T06:38:38.640888",
     "exception": false,
     "start_time": "2025-07-17T06:38:38.612509",
     "status": "completed"
    },
    "tags": []
   },
   "outputs": [
    {
     "data": {
      "text/plain": [
       "(tensor([[1., 2., 3., 4., 5., 6., 7., 8., 9.],\n",
       "         [1., 2., 3., 4., 5., 6., 7., 8., 9.],\n",
       "         [1., 2., 3., 4., 5., 6., 7., 8., 9.],\n",
       "         [1., 2., 3., 4., 5., 6., 7., 8., 9.]]),\n",
       " torch.Size([4, 9]))"
      ]
     },
     "execution_count": 46,
     "metadata": {},
     "output_type": "execute_result"
    }
   ],
   "source": [
    "x_stacked = torch.stack([x,x,x,x], dim=0)\n",
    "x_stacked, x_stacked.shape"
   ]
  },
  {
   "cell_type": "code",
   "execution_count": 47,
   "id": "3323388b",
   "metadata": {
    "execution": {
     "iopub.execute_input": "2025-07-17T06:38:38.665607Z",
     "iopub.status.busy": "2025-07-17T06:38:38.665265Z",
     "iopub.status.idle": "2025-07-17T06:38:38.671366Z",
     "shell.execute_reply": "2025-07-17T06:38:38.670532Z"
    },
    "papermill": {
     "duration": 0.019888,
     "end_time": "2025-07-17T06:38:38.672931",
     "exception": false,
     "start_time": "2025-07-17T06:38:38.653043",
     "status": "completed"
    },
    "tags": []
   },
   "outputs": [
    {
     "data": {
      "text/plain": [
       "torch.Size([9])"
      ]
     },
     "execution_count": 47,
     "metadata": {},
     "output_type": "execute_result"
    }
   ],
   "source": [
    "x.shape"
   ]
  },
  {
   "cell_type": "code",
   "execution_count": 48,
   "id": "800ba878",
   "metadata": {
    "execution": {
     "iopub.execute_input": "2025-07-17T06:38:38.698104Z",
     "iopub.status.busy": "2025-07-17T06:38:38.697805Z",
     "iopub.status.idle": "2025-07-17T06:38:38.702052Z",
     "shell.execute_reply": "2025-07-17T06:38:38.701235Z"
    },
    "papermill": {
     "duration": 0.01857,
     "end_time": "2025-07-17T06:38:38.703734",
     "exception": false,
     "start_time": "2025-07-17T06:38:38.685164",
     "status": "completed"
    },
    "tags": []
   },
   "outputs": [],
   "source": [
    "x_squeezed = x.squeeze()"
   ]
  },
  {
   "cell_type": "code",
   "execution_count": 49,
   "id": "c467c1e4",
   "metadata": {
    "execution": {
     "iopub.execute_input": "2025-07-17T06:38:38.729876Z",
     "iopub.status.busy": "2025-07-17T06:38:38.729555Z",
     "iopub.status.idle": "2025-07-17T06:38:38.736673Z",
     "shell.execute_reply": "2025-07-17T06:38:38.735846Z"
    },
    "papermill": {
     "duration": 0.020844,
     "end_time": "2025-07-17T06:38:38.738033",
     "exception": false,
     "start_time": "2025-07-17T06:38:38.717189",
     "status": "completed"
    },
    "tags": []
   },
   "outputs": [
    {
     "data": {
      "text/plain": [
       "(tensor([1., 2., 3., 4., 5., 6., 7., 8., 9.]), torch.Size([9]))"
      ]
     },
     "execution_count": 49,
     "metadata": {},
     "output_type": "execute_result"
    }
   ],
   "source": [
    "x_squeezed, x.shape"
   ]
  },
  {
   "cell_type": "code",
   "execution_count": 50,
   "id": "a7dedeba",
   "metadata": {
    "execution": {
     "iopub.execute_input": "2025-07-17T06:38:38.762746Z",
     "iopub.status.busy": "2025-07-17T06:38:38.762419Z",
     "iopub.status.idle": "2025-07-17T06:38:38.767226Z",
     "shell.execute_reply": "2025-07-17T06:38:38.766417Z"
    },
    "papermill": {
     "duration": 0.018802,
     "end_time": "2025-07-17T06:38:38.768696",
     "exception": false,
     "start_time": "2025-07-17T06:38:38.749894",
     "status": "completed"
    },
    "tags": []
   },
   "outputs": [],
   "source": [
    "x_unsqueezed = x_squeezed.unsqueeze(dim=0)"
   ]
  },
  {
   "cell_type": "code",
   "execution_count": 51,
   "id": "420595da",
   "metadata": {
    "execution": {
     "iopub.execute_input": "2025-07-17T06:38:38.793306Z",
     "iopub.status.busy": "2025-07-17T06:38:38.792955Z",
     "iopub.status.idle": "2025-07-17T06:38:38.800149Z",
     "shell.execute_reply": "2025-07-17T06:38:38.799254Z"
    },
    "papermill": {
     "duration": 0.021027,
     "end_time": "2025-07-17T06:38:38.801662",
     "exception": false,
     "start_time": "2025-07-17T06:38:38.780635",
     "status": "completed"
    },
    "tags": []
   },
   "outputs": [
    {
     "data": {
      "text/plain": [
       "tensor([[1., 2., 3., 4., 5., 6., 7., 8., 9.]])"
      ]
     },
     "execution_count": 51,
     "metadata": {},
     "output_type": "execute_result"
    }
   ],
   "source": [
    "x_unsqueezed"
   ]
  },
  {
   "cell_type": "code",
   "execution_count": 52,
   "id": "2f69915b",
   "metadata": {
    "execution": {
     "iopub.execute_input": "2025-07-17T06:38:38.826536Z",
     "iopub.status.busy": "2025-07-17T06:38:38.826220Z",
     "iopub.status.idle": "2025-07-17T06:38:38.831811Z",
     "shell.execute_reply": "2025-07-17T06:38:38.830830Z"
    },
    "papermill": {
     "duration": 0.019831,
     "end_time": "2025-07-17T06:38:38.833577",
     "exception": false,
     "start_time": "2025-07-17T06:38:38.813746",
     "status": "completed"
    },
    "tags": []
   },
   "outputs": [],
   "source": [
    "x_original = torch.rand(size=(224,224,3))"
   ]
  },
  {
   "cell_type": "code",
   "execution_count": 53,
   "id": "4756f93b",
   "metadata": {
    "execution": {
     "iopub.execute_input": "2025-07-17T06:38:38.858251Z",
     "iopub.status.busy": "2025-07-17T06:38:38.857957Z",
     "iopub.status.idle": "2025-07-17T06:38:38.866255Z",
     "shell.execute_reply": "2025-07-17T06:38:38.865389Z"
    },
    "papermill": {
     "duration": 0.022109,
     "end_time": "2025-07-17T06:38:38.867769",
     "exception": false,
     "start_time": "2025-07-17T06:38:38.845660",
     "status": "completed"
    },
    "tags": []
   },
   "outputs": [
    {
     "data": {
      "text/plain": [
       "tensor([[[0.6711, 0.7395, 0.3250],\n",
       "         [0.4073, 0.0246, 0.6716],\n",
       "         [0.6324, 0.1539, 0.0455],\n",
       "         ...,\n",
       "         [0.7265, 0.9418, 0.1106],\n",
       "         [0.5756, 0.2119, 0.8202],\n",
       "         [0.2528, 0.8151, 0.2524]],\n",
       "\n",
       "        [[0.0543, 0.2033, 0.5599],\n",
       "         [0.4208, 0.9069, 0.0891],\n",
       "         [0.2690, 0.0255, 0.8273],\n",
       "         ...,\n",
       "         [0.4058, 0.7780, 0.1744],\n",
       "         [0.0096, 0.5494, 0.9332],\n",
       "         [0.8844, 0.2551, 0.8656]],\n",
       "\n",
       "        [[0.8742, 0.2515, 0.9112],\n",
       "         [0.0952, 0.4294, 0.6797],\n",
       "         [0.0791, 0.1007, 0.7700],\n",
       "         ...,\n",
       "         [0.3639, 0.5380, 0.9558],\n",
       "         [0.3513, 0.1516, 0.6633],\n",
       "         [0.0116, 0.5697, 0.8830]],\n",
       "\n",
       "        ...,\n",
       "\n",
       "        [[0.8918, 0.2539, 0.0585],\n",
       "         [0.6778, 0.9048, 0.1321],\n",
       "         [0.0827, 0.3855, 0.4000],\n",
       "         ...,\n",
       "         [0.1159, 0.8734, 0.5074],\n",
       "         [0.2404, 0.4989, 0.6956],\n",
       "         [0.4346, 0.9122, 0.7816]],\n",
       "\n",
       "        [[0.3846, 0.4668, 0.7853],\n",
       "         [0.1349, 0.5663, 0.4540],\n",
       "         [0.5166, 0.1247, 0.9073],\n",
       "         ...,\n",
       "         [0.5185, 0.9171, 0.7109],\n",
       "         [0.3062, 0.3060, 0.2444],\n",
       "         [0.2615, 0.3533, 0.5471]],\n",
       "\n",
       "        [[0.2538, 0.7268, 0.9702],\n",
       "         [0.5169, 0.1625, 0.1587],\n",
       "         [0.6905, 0.5066, 0.8132],\n",
       "         ...,\n",
       "         [0.3177, 0.8175, 0.9934],\n",
       "         [0.5433, 0.1834, 0.5784],\n",
       "         [0.4240, 0.0885, 0.2630]]])"
      ]
     },
     "execution_count": 53,
     "metadata": {},
     "output_type": "execute_result"
    }
   ],
   "source": [
    "x_original"
   ]
  },
  {
   "cell_type": "code",
   "execution_count": 54,
   "id": "511c851a",
   "metadata": {
    "execution": {
     "iopub.execute_input": "2025-07-17T06:38:38.892684Z",
     "iopub.status.busy": "2025-07-17T06:38:38.892406Z",
     "iopub.status.idle": "2025-07-17T06:38:38.897122Z",
     "shell.execute_reply": "2025-07-17T06:38:38.896295Z"
    },
    "papermill": {
     "duration": 0.018787,
     "end_time": "2025-07-17T06:38:38.898689",
     "exception": false,
     "start_time": "2025-07-17T06:38:38.879902",
     "status": "completed"
    },
    "tags": []
   },
   "outputs": [],
   "source": [
    "x_permuted = x_original.permute(2,0,1)"
   ]
  },
  {
   "cell_type": "code",
   "execution_count": 55,
   "id": "0a4d4b03",
   "metadata": {
    "execution": {
     "iopub.execute_input": "2025-07-17T06:38:38.923413Z",
     "iopub.status.busy": "2025-07-17T06:38:38.923072Z",
     "iopub.status.idle": "2025-07-17T06:38:38.936823Z",
     "shell.execute_reply": "2025-07-17T06:38:38.935826Z"
    },
    "papermill": {
     "duration": 0.027925,
     "end_time": "2025-07-17T06:38:38.938442",
     "exception": false,
     "start_time": "2025-07-17T06:38:38.910517",
     "status": "completed"
    },
    "tags": []
   },
   "outputs": [
    {
     "data": {
      "text/plain": [
       "tensor([[[0.6711, 0.4073, 0.6324,  ..., 0.7265, 0.5756, 0.2528],\n",
       "         [0.0543, 0.4208, 0.2690,  ..., 0.4058, 0.0096, 0.8844],\n",
       "         [0.8742, 0.0952, 0.0791,  ..., 0.3639, 0.3513, 0.0116],\n",
       "         ...,\n",
       "         [0.8918, 0.6778, 0.0827,  ..., 0.1159, 0.2404, 0.4346],\n",
       "         [0.3846, 0.1349, 0.5166,  ..., 0.5185, 0.3062, 0.2615],\n",
       "         [0.2538, 0.5169, 0.6905,  ..., 0.3177, 0.5433, 0.4240]],\n",
       "\n",
       "        [[0.7395, 0.0246, 0.1539,  ..., 0.9418, 0.2119, 0.8151],\n",
       "         [0.2033, 0.9069, 0.0255,  ..., 0.7780, 0.5494, 0.2551],\n",
       "         [0.2515, 0.4294, 0.1007,  ..., 0.5380, 0.1516, 0.5697],\n",
       "         ...,\n",
       "         [0.2539, 0.9048, 0.3855,  ..., 0.8734, 0.4989, 0.9122],\n",
       "         [0.4668, 0.5663, 0.1247,  ..., 0.9171, 0.3060, 0.3533],\n",
       "         [0.7268, 0.1625, 0.5066,  ..., 0.8175, 0.1834, 0.0885]],\n",
       "\n",
       "        [[0.3250, 0.6716, 0.0455,  ..., 0.1106, 0.8202, 0.2524],\n",
       "         [0.5599, 0.0891, 0.8273,  ..., 0.1744, 0.9332, 0.8656],\n",
       "         [0.9112, 0.6797, 0.7700,  ..., 0.9558, 0.6633, 0.8830],\n",
       "         ...,\n",
       "         [0.0585, 0.1321, 0.4000,  ..., 0.5074, 0.6956, 0.7816],\n",
       "         [0.7853, 0.4540, 0.9073,  ..., 0.7109, 0.2444, 0.5471],\n",
       "         [0.9702, 0.1587, 0.8132,  ..., 0.9934, 0.5784, 0.2630]]])"
      ]
     },
     "execution_count": 55,
     "metadata": {},
     "output_type": "execute_result"
    }
   ],
   "source": [
    "x_permuted"
   ]
  },
  {
   "cell_type": "code",
   "execution_count": 56,
   "id": "5dc417db",
   "metadata": {
    "execution": {
     "iopub.execute_input": "2025-07-17T06:38:38.963954Z",
     "iopub.status.busy": "2025-07-17T06:38:38.963602Z",
     "iopub.status.idle": "2025-07-17T06:38:38.969231Z",
     "shell.execute_reply": "2025-07-17T06:38:38.968576Z"
    },
    "papermill": {
     "duration": 0.020023,
     "end_time": "2025-07-17T06:38:38.970609",
     "exception": false,
     "start_time": "2025-07-17T06:38:38.950586",
     "status": "completed"
    },
    "tags": []
   },
   "outputs": [
    {
     "data": {
      "text/plain": [
       "(torch.Size([224, 224, 3]), torch.Size([3, 224, 224]))"
      ]
     },
     "execution_count": 56,
     "metadata": {},
     "output_type": "execute_result"
    }
   ],
   "source": [
    "x_original.shape, x_permuted.shape"
   ]
  },
  {
   "cell_type": "code",
   "execution_count": 57,
   "id": "7217eca9",
   "metadata": {
    "execution": {
     "iopub.execute_input": "2025-07-17T06:38:38.996030Z",
     "iopub.status.busy": "2025-07-17T06:38:38.995695Z",
     "iopub.status.idle": "2025-07-17T06:38:38.999843Z",
     "shell.execute_reply": "2025-07-17T06:38:38.998863Z"
    },
    "papermill": {
     "duration": 0.018652,
     "end_time": "2025-07-17T06:38:39.001386",
     "exception": false,
     "start_time": "2025-07-17T06:38:38.982734",
     "status": "completed"
    },
    "tags": []
   },
   "outputs": [],
   "source": [
    "#permute is a view"
   ]
  },
  {
   "cell_type": "code",
   "execution_count": 58,
   "id": "7e41e38f",
   "metadata": {
    "execution": {
     "iopub.execute_input": "2025-07-17T06:38:39.027533Z",
     "iopub.status.busy": "2025-07-17T06:38:39.027194Z",
     "iopub.status.idle": "2025-07-17T06:38:39.039212Z",
     "shell.execute_reply": "2025-07-17T06:38:39.038305Z"
    },
    "papermill": {
     "duration": 0.026669,
     "end_time": "2025-07-17T06:38:39.041072",
     "exception": false,
     "start_time": "2025-07-17T06:38:39.014403",
     "status": "completed"
    },
    "tags": []
   },
   "outputs": [
    {
     "data": {
      "text/plain": [
       "<torch._C.Generator at 0x78f154b073d0>"
      ]
     },
     "execution_count": 58,
     "metadata": {},
     "output_type": "execute_result"
    }
   ],
   "source": [
    "##seeding in torch\n",
    "RANDOM_SEED = 42\n",
    "\n",
    "torch.manual_seed(RANDOM_SEED) #this works for only one line on code after it, so if making many,\n",
    "                                #tensors randomly, then write this manual_seed line again and again before it"
   ]
  },
  {
   "cell_type": "code",
   "execution_count": null,
   "id": "16b4cf74",
   "metadata": {
    "papermill": {
     "duration": 0.012955,
     "end_time": "2025-07-17T06:38:39.067116",
     "exception": false,
     "start_time": "2025-07-17T06:38:39.054161",
     "status": "completed"
    },
    "tags": []
   },
   "outputs": [],
   "source": []
  }
 ],
 "metadata": {
  "kaggle": {
   "accelerator": "none",
   "dataSources": [],
   "dockerImageVersionId": 31089,
   "isGpuEnabled": false,
   "isInternetEnabled": true,
   "language": "python",
   "sourceType": "notebook"
  },
  "kernelspec": {
   "display_name": "Python 3",
   "language": "python",
   "name": "python3"
  },
  "language_info": {
   "codemirror_mode": {
    "name": "ipython",
    "version": 3
   },
   "file_extension": ".py",
   "mimetype": "text/x-python",
   "name": "python",
   "nbconvert_exporter": "python",
   "pygments_lexer": "ipython3",
   "version": "3.11.13"
  },
  "papermill": {
   "default_parameters": {},
   "duration": 15.836303,
   "end_time": "2025-07-17T06:38:40.609711",
   "environment_variables": {},
   "exception": null,
   "input_path": "__notebook__.ipynb",
   "output_path": "__notebook__.ipynb",
   "parameters": {},
   "start_time": "2025-07-17T06:38:24.773408",
   "version": "2.6.0"
  }
 },
 "nbformat": 4,
 "nbformat_minor": 5
}
