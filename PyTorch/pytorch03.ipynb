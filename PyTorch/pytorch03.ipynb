{
 "cells": [
  {
   "cell_type": "markdown",
   "id": "09735142",
   "metadata": {
    "_cell_guid": "b1076dfc-b9ad-4769-8c92-a6c4dae69d19",
    "_uuid": "8f2839f25d086af736a60e9eeb907d3b93b6e0e5",
    "papermill": {
     "duration": 0.001881,
     "end_time": "2025-07-20T15:43:03.287210",
     "exception": false,
     "start_time": "2025-07-20T15:43:03.285329",
     "status": "completed"
    },
    "tags": []
   },
   "source": [
    "# Computer Vision - CNN\n",
    "\n",
    "## Libraries in torchvision:\n",
    "* torchvision\n",
    "* torchvision.datasets\n",
    "* torchvision.models\n",
    "* torchvision.transforms\n",
    "* torchvision.utils.data.Dataset\n",
    "* torchvision.utils.data.DataLoader"
   ]
  },
  {
   "cell_type": "code",
   "execution_count": 1,
   "id": "369efaff",
   "metadata": {
    "execution": {
     "iopub.execute_input": "2025-07-20T15:43:03.291427Z",
     "iopub.status.busy": "2025-07-20T15:43:03.291119Z",
     "iopub.status.idle": "2025-07-20T15:43:14.468335Z",
     "shell.execute_reply": "2025-07-20T15:43:14.467464Z"
    },
    "papermill": {
     "duration": 11.181078,
     "end_time": "2025-07-20T15:43:14.469853",
     "exception": false,
     "start_time": "2025-07-20T15:43:03.288775",
     "status": "completed"
    },
    "tags": []
   },
   "outputs": [
    {
     "name": "stdout",
     "output_type": "stream",
     "text": [
      "2.6.0+cu124\n",
      "0.21.0+cu124\n"
     ]
    }
   ],
   "source": [
    "import torch \n",
    "from torch import nn\n",
    "\n",
    "import torchvision\n",
    "from torchvision import datasets\n",
    "from torchvision import transforms\n",
    "from torchvision.transforms import ToTensor\n",
    "\n",
    "import matplotlib.pyplot as plt\n",
    "\n",
    "print(torch.__version__)\n",
    "print(torchvision.__version__)"
   ]
  },
  {
   "cell_type": "markdown",
   "id": "bc3dafdf",
   "metadata": {
    "papermill": {
     "duration": 0.001144,
     "end_time": "2025-07-20T15:43:14.472588",
     "exception": false,
     "start_time": "2025-07-20T15:43:14.471444",
     "status": "completed"
    },
    "tags": []
   },
   "source": [
    "## Dataset used: Fashion MNIST"
   ]
  },
  {
   "cell_type": "code",
   "execution_count": null,
   "id": "bcc0fcd2",
   "metadata": {
    "papermill": {
     "duration": 0.001056,
     "end_time": "2025-07-20T15:43:14.474911",
     "exception": false,
     "start_time": "2025-07-20T15:43:14.473855",
     "status": "completed"
    },
    "tags": []
   },
   "outputs": [],
   "source": []
  }
 ],
 "metadata": {
  "kaggle": {
   "accelerator": "none",
   "dataSources": [],
   "dockerImageVersionId": 31090,
   "isGpuEnabled": false,
   "isInternetEnabled": true,
   "language": "python",
   "sourceType": "notebook"
  },
  "kernelspec": {
   "display_name": "Python 3",
   "language": "python",
   "name": "python3"
  },
  "language_info": {
   "codemirror_mode": {
    "name": "ipython",
    "version": 3
   },
   "file_extension": ".py",
   "mimetype": "text/x-python",
   "name": "python",
   "nbconvert_exporter": "python",
   "pygments_lexer": "ipython3",
   "version": "3.11.13"
  },
  "papermill": {
   "default_parameters": {},
   "duration": 17.57795,
   "end_time": "2025-07-20T15:43:16.099042",
   "environment_variables": {},
   "exception": null,
   "input_path": "__notebook__.ipynb",
   "output_path": "__notebook__.ipynb",
   "parameters": {},
   "start_time": "2025-07-20T15:42:58.521092",
   "version": "2.6.0"
  }
 },
 "nbformat": 4,
 "nbformat_minor": 5
}
