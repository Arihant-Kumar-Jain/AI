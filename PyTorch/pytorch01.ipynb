{
 "cells": [
  {
   "cell_type": "code",
   "execution_count": 1,
   "id": "57f005b2",
   "metadata": {
    "_cell_guid": "b1076dfc-b9ad-4769-8c92-a6c4dae69d19",
    "_uuid": "8f2839f25d086af736a60e9eeb907d3b93b6e0e5",
    "execution": {
     "iopub.execute_input": "2025-07-17T06:41:09.666339Z",
     "iopub.status.busy": "2025-07-17T06:41:09.666021Z",
     "iopub.status.idle": "2025-07-17T06:41:16.225084Z",
     "shell.execute_reply": "2025-07-17T06:41:16.224034Z"
    },
    "papermill": {
     "duration": 6.567719,
     "end_time": "2025-07-17T06:41:16.226774",
     "exception": false,
     "start_time": "2025-07-17T06:41:09.659055",
     "status": "completed"
    },
    "tags": []
   },
   "outputs": [],
   "source": [
    "import numpy as np\n",
    "import pandas as pd\n",
    "import matplotlib.pyplot as plt\n",
    "\n",
    "import torch"
   ]
  },
  {
   "cell_type": "code",
   "execution_count": 2,
   "id": "06618c38",
   "metadata": {
    "execution": {
     "iopub.execute_input": "2025-07-17T06:41:16.237237Z",
     "iopub.status.busy": "2025-07-17T06:41:16.236859Z",
     "iopub.status.idle": "2025-07-17T06:41:16.245167Z",
     "shell.execute_reply": "2025-07-17T06:41:16.244328Z"
    },
    "papermill": {
     "duration": 0.015028,
     "end_time": "2025-07-17T06:41:16.246756",
     "exception": false,
     "start_time": "2025-07-17T06:41:16.231728",
     "status": "completed"
    },
    "tags": []
   },
   "outputs": [
    {
     "data": {
      "text/plain": [
       "'cpu'"
      ]
     },
     "execution_count": 2,
     "metadata": {},
     "output_type": "execute_result"
    }
   ],
   "source": [
    "#device agnostic code\n",
    "device = \"cuda\" if torch.cuda.is_available() else \"cpu\"\n",
    "device"
   ]
  },
  {
   "cell_type": "code",
   "execution_count": 3,
   "id": "ac098ea7",
   "metadata": {
    "execution": {
     "iopub.execute_input": "2025-07-17T06:41:16.257463Z",
     "iopub.status.busy": "2025-07-17T06:41:16.257176Z",
     "iopub.status.idle": "2025-07-17T06:41:16.263120Z",
     "shell.execute_reply": "2025-07-17T06:41:16.262190Z"
    },
    "papermill": {
     "duration": 0.012734,
     "end_time": "2025-07-17T06:41:16.264574",
     "exception": false,
     "start_time": "2025-07-17T06:41:16.251840",
     "status": "completed"
    },
    "tags": []
   },
   "outputs": [
    {
     "data": {
      "text/plain": [
       "0"
      ]
     },
     "execution_count": 3,
     "metadata": {},
     "output_type": "execute_result"
    }
   ],
   "source": [
    "torch.cuda.device_count()"
   ]
  },
  {
   "cell_type": "code",
   "execution_count": 4,
   "id": "aa1cf52e",
   "metadata": {
    "execution": {
     "iopub.execute_input": "2025-07-17T06:41:16.275017Z",
     "iopub.status.busy": "2025-07-17T06:41:16.274741Z",
     "iopub.status.idle": "2025-07-17T06:41:16.319777Z",
     "shell.execute_reply": "2025-07-17T06:41:16.318530Z"
    },
    "papermill": {
     "duration": 0.051985,
     "end_time": "2025-07-17T06:41:16.321578",
     "exception": false,
     "start_time": "2025-07-17T06:41:16.269593",
     "status": "completed"
    },
    "tags": []
   },
   "outputs": [
    {
     "name": "stdout",
     "output_type": "stream",
     "text": [
      "tensor([1, 2, 3]) cpu\n"
     ]
    }
   ],
   "source": [
    "#by default,tensors are on cpu, we have to shift them to gpu manually\n",
    "tensor = torch.tensor([1,2,3])\n",
    "print(tensor, tensor.device)"
   ]
  },
  {
   "cell_type": "code",
   "execution_count": 5,
   "id": "313fd695",
   "metadata": {
    "execution": {
     "iopub.execute_input": "2025-07-17T06:41:16.333041Z",
     "iopub.status.busy": "2025-07-17T06:41:16.332759Z",
     "iopub.status.idle": "2025-07-17T06:41:16.339510Z",
     "shell.execute_reply": "2025-07-17T06:41:16.338549Z"
    },
    "papermill": {
     "duration": 0.014113,
     "end_time": "2025-07-17T06:41:16.340752",
     "exception": false,
     "start_time": "2025-07-17T06:41:16.326639",
     "status": "completed"
    },
    "tags": []
   },
   "outputs": [
    {
     "name": "stdout",
     "output_type": "stream",
     "text": [
      "tensor([1, 2, 3]) cpu\n"
     ]
    }
   ],
   "source": [
    "tensor_on_gpu = tensor.to(device)\n",
    "print(tensor_on_gpu, tensor_on_gpu.device)"
   ]
  },
  {
   "cell_type": "code",
   "execution_count": 6,
   "id": "7e499f56",
   "metadata": {
    "execution": {
     "iopub.execute_input": "2025-07-17T06:41:16.351251Z",
     "iopub.status.busy": "2025-07-17T06:41:16.350980Z",
     "iopub.status.idle": "2025-07-17T06:41:16.354357Z",
     "shell.execute_reply": "2025-07-17T06:41:16.353759Z"
    },
    "papermill": {
     "duration": 0.009702,
     "end_time": "2025-07-17T06:41:16.355355",
     "exception": false,
     "start_time": "2025-07-17T06:41:16.345653",
     "status": "completed"
    },
    "tags": []
   },
   "outputs": [],
   "source": [
    "#if tensor is on gpu, we cant transform it to numpy"
   ]
  },
  {
   "cell_type": "code",
   "execution_count": 7,
   "id": "d63d81e1",
   "metadata": {
    "execution": {
     "iopub.execute_input": "2025-07-17T06:41:16.366149Z",
     "iopub.status.busy": "2025-07-17T06:41:16.365473Z",
     "iopub.status.idle": "2025-07-17T06:41:16.369023Z",
     "shell.execute_reply": "2025-07-17T06:41:16.368333Z"
    },
    "papermill": {
     "duration": 0.010429,
     "end_time": "2025-07-17T06:41:16.370608",
     "exception": false,
     "start_time": "2025-07-17T06:41:16.360179",
     "status": "completed"
    },
    "tags": []
   },
   "outputs": [],
   "source": [
    "from torch import nn"
   ]
  },
  {
   "cell_type": "code",
   "execution_count": 8,
   "id": "18735f7b",
   "metadata": {
    "execution": {
     "iopub.execute_input": "2025-07-17T06:41:16.381416Z",
     "iopub.status.busy": "2025-07-17T06:41:16.381151Z",
     "iopub.status.idle": "2025-07-17T06:41:16.461650Z",
     "shell.execute_reply": "2025-07-17T06:41:16.460563Z"
    },
    "papermill": {
     "duration": 0.087026,
     "end_time": "2025-07-17T06:41:16.462932",
     "exception": false,
     "start_time": "2025-07-17T06:41:16.375906",
     "status": "completed"
    },
    "tags": []
   },
   "outputs": [
    {
     "data": {
      "text/plain": [
       "(tensor([[0.0000],\n",
       "         [0.0200],\n",
       "         [0.0400],\n",
       "         [0.0600],\n",
       "         [0.0800],\n",
       "         [0.1000],\n",
       "         [0.1200],\n",
       "         [0.1400],\n",
       "         [0.1600],\n",
       "         [0.1800]]),\n",
       " tensor([[0.3000],\n",
       "         [0.3140],\n",
       "         [0.3280],\n",
       "         [0.3420],\n",
       "         [0.3560],\n",
       "         [0.3700],\n",
       "         [0.3840],\n",
       "         [0.3980],\n",
       "         [0.4120],\n",
       "         [0.4260]]))"
      ]
     },
     "execution_count": 8,
     "metadata": {},
     "output_type": "execute_result"
    }
   ],
   "source": [
    "#creating some data using known parameters of linear regression\n",
    "\n",
    "weight = 0.7\n",
    "bias = 0.3\n",
    "\n",
    "start = 0\n",
    "end = 1\n",
    "step = 0.02\n",
    "\n",
    "X = torch.arange(start,end,step).unsqueeze(dim=1)\n",
    "y = X*weight + bias\n",
    "\n",
    "X[:10], y[:10]"
   ]
  },
  {
   "cell_type": "code",
   "execution_count": 9,
   "id": "b6524ec9",
   "metadata": {
    "execution": {
     "iopub.execute_input": "2025-07-17T06:41:16.474002Z",
     "iopub.status.busy": "2025-07-17T06:41:16.472939Z",
     "iopub.status.idle": "2025-07-17T06:41:16.478206Z",
     "shell.execute_reply": "2025-07-17T06:41:16.477556Z"
    },
    "papermill": {
     "duration": 0.01198,
     "end_time": "2025-07-17T06:41:16.479710",
     "exception": false,
     "start_time": "2025-07-17T06:41:16.467730",
     "status": "completed"
    },
    "tags": []
   },
   "outputs": [
    {
     "data": {
      "text/plain": [
       "(50, 50)"
      ]
     },
     "execution_count": 9,
     "metadata": {},
     "output_type": "execute_result"
    }
   ],
   "source": [
    "len(X), len(y)"
   ]
  },
  {
   "cell_type": "code",
   "execution_count": 10,
   "id": "d261246a",
   "metadata": {
    "execution": {
     "iopub.execute_input": "2025-07-17T06:41:16.491086Z",
     "iopub.status.busy": "2025-07-17T06:41:16.490809Z",
     "iopub.status.idle": "2025-07-17T06:41:16.494951Z",
     "shell.execute_reply": "2025-07-17T06:41:16.494308Z"
    },
    "papermill": {
     "duration": 0.010886,
     "end_time": "2025-07-17T06:41:16.496323",
     "exception": false,
     "start_time": "2025-07-17T06:41:16.485437",
     "status": "completed"
    },
    "tags": []
   },
   "outputs": [],
   "source": [
    "train_split = int(0.8*len(X))\n",
    "X_train, y_train = X[:train_split], y[:train_split]\n",
    "X_test, y_test = X[train_split:], y[train_split:]"
   ]
  },
  {
   "cell_type": "code",
   "execution_count": 11,
   "id": "295432f0",
   "metadata": {
    "execution": {
     "iopub.execute_input": "2025-07-17T06:41:16.507345Z",
     "iopub.status.busy": "2025-07-17T06:41:16.507033Z",
     "iopub.status.idle": "2025-07-17T06:41:16.512239Z",
     "shell.execute_reply": "2025-07-17T06:41:16.511192Z"
    },
    "papermill": {
     "duration": 0.011649,
     "end_time": "2025-07-17T06:41:16.513319",
     "exception": false,
     "start_time": "2025-07-17T06:41:16.501670",
     "status": "completed"
    },
    "tags": []
   },
   "outputs": [
    {
     "data": {
      "text/plain": [
       "(40, 40, 10, 10)"
      ]
     },
     "execution_count": 11,
     "metadata": {},
     "output_type": "execute_result"
    }
   ],
   "source": [
    "len(X_train), len(y_train), len(X_test), len(y_test)"
   ]
  },
  {
   "cell_type": "code",
   "execution_count": 12,
   "id": "f6a0565e",
   "metadata": {
    "execution": {
     "iopub.execute_input": "2025-07-17T06:41:16.523858Z",
     "iopub.status.busy": "2025-07-17T06:41:16.523542Z",
     "iopub.status.idle": "2025-07-17T06:41:16.528562Z",
     "shell.execute_reply": "2025-07-17T06:41:16.528004Z"
    },
    "papermill": {
     "duration": 0.011505,
     "end_time": "2025-07-17T06:41:16.529560",
     "exception": false,
     "start_time": "2025-07-17T06:41:16.518055",
     "status": "completed"
    },
    "tags": []
   },
   "outputs": [],
   "source": [
    "def plot_predictions(train_data = X_train,\n",
    "                    train_labels = y_train,\n",
    "                    test_data = X_test,\n",
    "                    test_labels = y_test,\n",
    "                    predictions=None):\n",
    "\n",
    "    plt.figure(figsize=(10,7))\n",
    "    \n",
    "    plt.scatter(train_data, train_labels, c=\"b\", s=4, label=\"training_data\")\n",
    "    \n",
    "    plt.scatter(test_data, test_labels, c=\"g\", s=4, label = \"testing data\")\n",
    "    \n",
    "    if predictions is not None:\n",
    "        plt.scatter(test_data, predictions, c=\"r\", s=4, label=\"Predictions\")\n",
    "    \n",
    "    plt.legend(prop={'size': 14});\n",
    "\n"
   ]
  },
  {
   "cell_type": "code",
   "execution_count": 13,
   "id": "8c73da23",
   "metadata": {
    "execution": {
     "iopub.execute_input": "2025-07-17T06:41:16.540219Z",
     "iopub.status.busy": "2025-07-17T06:41:16.539984Z",
     "iopub.status.idle": "2025-07-17T06:41:16.821280Z",
     "shell.execute_reply": "2025-07-17T06:41:16.820295Z"
    },
    "papermill": {
     "duration": 0.288279,
     "end_time": "2025-07-17T06:41:16.822966",
     "exception": false,
     "start_time": "2025-07-17T06:41:16.534687",
     "status": "completed"
    },
    "tags": []
   },
   "outputs": [
    {
     "data": {
      "image/png": "[encoded data removed]",
      "text/plain": [
       "<Figure size 1000x700 with 1 Axes>"
      ]
     },
     "metadata": {},
     "output_type": "display_data"
    }
   ],
   "source": [
    "plot_predictions()"
   ]
  },
  {
   "cell_type": "code",
   "execution_count": 14,
   "id": "c45e6203",
   "metadata": {
    "execution": {
     "iopub.execute_input": "2025-07-17T06:41:16.834606Z",
     "iopub.status.busy": "2025-07-17T06:41:16.834246Z",
     "iopub.status.idle": "2025-07-17T06:41:16.840637Z",
     "shell.execute_reply": "2025-07-17T06:41:16.839585Z"
    },
    "papermill": {
     "duration": 0.013912,
     "end_time": "2025-07-17T06:41:16.842346",
     "exception": false,
     "start_time": "2025-07-17T06:41:16.828434",
     "status": "completed"
    },
    "tags": []
   },
   "outputs": [],
   "source": [
    "from torch import nn\n",
    "\n",
    "\n",
    "class LinearRegressionModel(nn.Module):\n",
    "    \n",
    "    def __init__(self):\n",
    "        super().__init__()\n",
    "        self.weights = nn.Parameter(torch.randn(1,\n",
    "                                    requires_grad = True,\n",
    "                                    dtype=torch.float))\n",
    "        self.bias = nn.Parameter(torch.randn(1,\n",
    "                                             requires_grad=True,\n",
    "                                             dtype=torch.float))\n",
    "        \n",
    "    def forward(self, X:torch.Tensor):\n",
    "        return self.weights * X + self.bias\n"
   ]
  },
  {
   "cell_type": "code",
   "execution_count": 15,
   "id": "8081564d",
   "metadata": {
    "execution": {
     "iopub.execute_input": "2025-07-17T06:41:16.855298Z",
     "iopub.status.busy": "2025-07-17T06:41:16.854988Z",
     "iopub.status.idle": "2025-07-17T06:41:16.874564Z",
     "shell.execute_reply": "2025-07-17T06:41:16.873559Z"
    },
    "papermill": {
     "duration": 0.027368,
     "end_time": "2025-07-17T06:41:16.876185",
     "exception": false,
     "start_time": "2025-07-17T06:41:16.848817",
     "status": "completed"
    },
    "tags": []
   },
   "outputs": [
    {
     "data": {
      "text/plain": [
       "[Parameter containing:\n",
       " tensor([0.3367], requires_grad=True),\n",
       " Parameter containing:\n",
       " tensor([0.1288], requires_grad=True)]"
      ]
     },
     "execution_count": 15,
     "metadata": {},
     "output_type": "execute_result"
    }
   ],
   "source": [
    "torch.manual_seed(42)\n",
    "\n",
    "model_0 = LinearRegressionModel()\n",
    "\n",
    "list(model_0.parameters())"
   ]
  },
  {
   "cell_type": "code",
   "execution_count": 16,
   "id": "bc0f34d9",
   "metadata": {
    "execution": {
     "iopub.execute_input": "2025-07-17T06:41:16.888362Z",
     "iopub.status.busy": "2025-07-17T06:41:16.888055Z",
     "iopub.status.idle": "2025-07-17T06:41:16.895872Z",
     "shell.execute_reply": "2025-07-17T06:41:16.895204Z"
    },
    "papermill": {
     "duration": 0.015051,
     "end_time": "2025-07-17T06:41:16.897133",
     "exception": false,
     "start_time": "2025-07-17T06:41:16.882082",
     "status": "completed"
    },
    "tags": []
   },
   "outputs": [
    {
     "data": {
      "text/plain": [
       "OrderedDict([('weights', tensor([0.3367])), ('bias', tensor([0.1288]))])"
      ]
     },
     "execution_count": 16,
     "metadata": {},
     "output_type": "execute_result"
    }
   ],
   "source": [
    "model_0.state_dict()"
   ]
  },
  {
   "cell_type": "code",
   "execution_count": 17,
   "id": "fd5e1ada",
   "metadata": {
    "execution": {
     "iopub.execute_input": "2025-07-17T06:41:16.909654Z",
     "iopub.status.busy": "2025-07-17T06:41:16.909296Z",
     "iopub.status.idle": "2025-07-17T06:41:16.916980Z",
     "shell.execute_reply": "2025-07-17T06:41:16.916078Z"
    },
    "papermill": {
     "duration": 0.015602,
     "end_time": "2025-07-17T06:41:16.918505",
     "exception": false,
     "start_time": "2025-07-17T06:41:16.902903",
     "status": "completed"
    },
    "tags": []
   },
   "outputs": [
    {
     "data": {
      "text/plain": [
       "tensor([[0.3982],\n",
       "        [0.4049],\n",
       "        [0.4116],\n",
       "        [0.4184],\n",
       "        [0.4251],\n",
       "        [0.4318],\n",
       "        [0.4386],\n",
       "        [0.4453],\n",
       "        [0.4520],\n",
       "        [0.4588]])"
      ]
     },
     "execution_count": 17,
     "metadata": {},
     "output_type": "execute_result"
    }
   ],
   "source": [
    "with torch.inference_mode():\n",
    "    y_pred = model_0(X_test)\n",
    "\n",
    "y_pred"
   ]
  },
  {
   "cell_type": "code",
   "execution_count": 18,
   "id": "63537907",
   "metadata": {
    "execution": {
     "iopub.execute_input": "2025-07-17T06:41:16.930554Z",
     "iopub.status.busy": "2025-07-17T06:41:16.930239Z",
     "iopub.status.idle": "2025-07-17T06:41:17.272508Z",
     "shell.execute_reply": "2025-07-17T06:41:17.271603Z"
    },
    "papermill": {
     "duration": 0.349499,
     "end_time": "2025-07-17T06:41:17.273728",
     "exception": false,
     "start_time": "2025-07-17T06:41:16.924229",
     "status": "completed"
    },
    "tags": []
   },
   "outputs": [
    {
     "data": {
      "image/png": "[encoded data removed]",
      "text/plain": [
       "<Figure size 1000x700 with 1 Axes>"
      ]
     },
     "metadata": {},
     "output_type": "display_data"
    }
   ],
   "source": [
    "plot_predictions(predictions=y_pred)"
   ]
  },
  {
   "cell_type": "code",
   "execution_count": 19,
   "id": "d4c4273f",
   "metadata": {
    "execution": {
     "iopub.execute_input": "2025-07-17T06:41:17.285974Z",
     "iopub.status.busy": "2025-07-17T06:41:17.285711Z",
     "iopub.status.idle": "2025-07-17T06:41:22.446619Z",
     "shell.execute_reply": "2025-07-17T06:41:22.445819Z"
    },
    "papermill": {
     "duration": 5.168542,
     "end_time": "2025-07-17T06:41:22.448120",
     "exception": false,
     "start_time": "2025-07-17T06:41:17.279578",
     "status": "completed"
    },
    "tags": []
   },
   "outputs": [],
   "source": [
    "loss_fn = nn.L1Loss()\n",
    "\n",
    "optimizer = torch.optim.RMSprop(params = model_0.parameters(),\n",
    "                           lr = 0.005)"
   ]
  },
  {
   "cell_type": "code",
   "execution_count": 20,
   "id": "3a4301a3",
   "metadata": {
    "execution": {
     "iopub.execute_input": "2025-07-17T06:41:22.461035Z",
     "iopub.status.busy": "2025-07-17T06:41:22.460653Z",
     "iopub.status.idle": "2025-07-17T06:41:22.519153Z",
     "shell.execute_reply": "2025-07-17T06:41:22.518139Z"
    },
    "papermill": {
     "duration": 0.06656,
     "end_time": "2025-07-17T06:41:22.520755",
     "exception": false,
     "start_time": "2025-07-17T06:41:22.454195",
     "status": "completed"
    },
    "tags": []
   },
   "outputs": [
    {
     "name": "stdout",
     "output_type": "stream",
     "text": [
      "Epoch : 0 | loss : 0.31288138031959534 | test_loss: 0.40003618597984314\n",
      "Epoch : 1 | loss : 0.2433813512325287 | test_loss: 0.33304694294929504\n",
      "Epoch : 2 | loss : 0.19411413371562958 | test_loss: 0.27821341156959534\n",
      "Epoch : 3 | loss : 0.1537868082523346 | test_loss: 0.23060739040374756\n",
      "Epoch : 4 | loss : 0.11877499520778656 | test_loss: 0.18792101740837097\n",
      "Epoch : 5 | loss : 0.08738130331039429 | test_loss: 0.14885668456554413\n",
      "Epoch : 6 | loss : 0.059910714626312256 | test_loss: 0.1162380799651146\n",
      "Epoch : 7 | loss : 0.04205044358968735 | test_loss: 0.0908609926700592\n",
      "Epoch : 8 | loss : 0.03189601004123688 | test_loss: 0.07302562892436981\n",
      "Epoch : 9 | loss : 0.02678786776959896 | test_loss: 0.060103096067905426\n",
      "Epoch : 10 | loss : 0.024030137807130814 | test_loss: 0.052300892770290375\n",
      "Epoch : 11 | loss : 0.022393183782696724 | test_loss: 0.048084087669849396\n",
      "Epoch : 12 | loss : 0.021094541996717453 | test_loss: 0.04390401393175125\n",
      "Epoch : 13 | loss : 0.019800132140517235 | test_loss: 0.03975991532206535\n",
      "Epoch : 14 | loss : 0.01856187917292118 | test_loss: 0.03746938705444336\n",
      "Epoch : 15 | loss : 0.017306577414274216 | test_loss: 0.03519891947507858\n",
      "Epoch : 16 | loss : 0.016051433980464935 | test_loss: 0.03294839709997177\n",
      "Epoch : 17 | loss : 0.014802004210650921 | test_loss: 0.02889459766447544\n",
      "Epoch : 18 | loss : 0.013564127497375011 | test_loss: 0.02669866755604744\n",
      "Epoch : 19 | loss : 0.012310752645134926 | test_loss: 0.024522025138139725\n",
      "Epoch : 20 | loss : 0.01105780340731144 | test_loss: 0.02053709700703621\n",
      "Epoch : 21 | loss : 0.009829218499362469 | test_loss: 0.018413538113236427\n",
      "Epoch : 22 | loss : 0.008577248081564903 | test_loss: 0.016308587044477463\n",
      "Epoch : 23 | loss : 0.007327868137508631 | test_loss: 0.012390142306685448\n",
      "Epoch : 24 | loss : 0.006113890558481216 | test_loss: 0.012208479456603527\n",
      "Epoch : 25 | loss : 0.004923825152218342 | test_loss: 0.0047737183049321175\n",
      "Epoch : 26 | loss : 0.0041193231008946896 | test_loss: 0.016580378636717796\n",
      "Epoch : 27 | loss : 0.007503807544708252 | test_loss: 0.01617385819554329\n",
      "Epoch : 28 | loss : 0.017440665513277054 | test_loss: 0.014874285086989403\n",
      "Epoch : 29 | loss : 0.006172818597406149 | test_loss: 0.012350541539490223\n",
      "Epoch : 30 | loss : 0.013950037769973278 | test_loss: 0.016245275735855103\n",
      "Epoch : 31 | loss : 0.007684628013521433 | test_loss: 0.01123303733766079\n",
      "Epoch : 32 | loss : 0.013056320138275623 | test_loss: 0.015261268243193626\n",
      "Epoch : 33 | loss : 0.006902133114635944 | test_loss: 0.010357862338423729\n",
      "Epoch : 34 | loss : 0.01236385852098465 | test_loss: 0.014476323500275612\n",
      "Epoch : 35 | loss : 0.006289098411798477 | test_loss: 0.009024208411574364\n",
      "Epoch : 36 | loss : 0.011182846501469612 | test_loss: 0.014498800039291382\n",
      "Epoch : 37 | loss : 0.006446782499551773 | test_loss: 0.008431154303252697\n",
      "Epoch : 38 | loss : 0.010719646699726582 | test_loss: 0.01395426969975233\n",
      "Epoch : 39 | loss : 0.00603089714422822 | test_loss: 0.007359415292739868\n",
      "Epoch : 40 | loss : 0.009760049171745777 | test_loss: 0.014090198092162609\n",
      "Epoch : 41 | loss : 0.006263312883675098 | test_loss: 0.006925052497535944\n",
      "Epoch : 42 | loss : 0.009423632174730301 | test_loss: 0.013685375452041626\n",
      "Epoch : 43 | loss : 0.00595455477014184 | test_loss: 0.006018525455147028\n",
      "Epoch : 44 | loss : 0.00860360823571682 | test_loss: 0.013883608393371105\n",
      "Epoch : 45 | loss : 0.006230154540389776 | test_loss: 0.005683708004653454\n",
      "Epoch : 46 | loss : 0.008345838636159897 | test_loss: 0.013568359427154064\n",
      "Epoch : 47 | loss : 0.005987807177007198 | test_loss: 0.005386292934417725\n",
      "Epoch : 48 | loss : 0.00811752863228321 | test_loss: 0.013287162408232689\n",
      "Epoch : 49 | loss : 0.00577669870108366 | test_loss: 0.004638415761291981\n"
     ]
    }
   ],
   "source": [
    "epochs = 50\n",
    "\n",
    "#tracking purposes\n",
    "epoch_count = []\n",
    "loss_values = []\n",
    "test_loss_values = []\n",
    "\n",
    "for epoch in range(epochs):\n",
    "    model_0.train()\n",
    "    y_pred = model_0(X_train)\n",
    "    loss = loss_fn(y_pred, y_train)\n",
    "    #print(f\"loss {loss}\")\n",
    "    optimizer.zero_grad()\n",
    "    loss.backward()\n",
    "    optimizer.step()\n",
    "\n",
    "    #testing\n",
    "    model_0.eval()\n",
    "    with torch.inference_mode():\n",
    "        test_pred = model_0(X_test)\n",
    "        test_loss = loss_fn(test_pred, y_test)\n",
    "        \n",
    "    if epoch%10 == 0:\n",
    "        epoch_count.append(epoch)\n",
    "        loss_values.append(loss)\n",
    "        test_loss_values.append(test_loss)\n",
    "\n",
    "    print(f\"Epoch : {epoch} | loss : {loss} | test_loss: {test_loss}\")"
   ]
  },
  {
   "cell_type": "code",
   "execution_count": 21,
   "id": "14dbe173",
   "metadata": {
    "execution": {
     "iopub.execute_input": "2025-07-17T06:41:22.533224Z",
     "iopub.status.busy": "2025-07-17T06:41:22.532935Z",
     "iopub.status.idle": "2025-07-17T06:41:22.538657Z",
     "shell.execute_reply": "2025-07-17T06:41:22.538061Z"
    },
    "papermill": {
     "duration": 0.01304,
     "end_time": "2025-07-17T06:41:22.539733",
     "exception": false,
     "start_time": "2025-07-17T06:41:22.526693",
     "status": "completed"
    },
    "tags": []
   },
   "outputs": [
    {
     "data": {
      "text/plain": [
       "OrderedDict([('weights', tensor([0.6944])), ('bias', tensor([0.3096]))])"
      ]
     },
     "execution_count": 21,
     "metadata": {},
     "output_type": "execute_result"
    }
   ],
   "source": [
    "model_0.state_dict()"
   ]
  },
  {
   "cell_type": "code",
   "execution_count": 22,
   "id": "c5109501",
   "metadata": {
    "execution": {
     "iopub.execute_input": "2025-07-17T06:41:22.552600Z",
     "iopub.status.busy": "2025-07-17T06:41:22.552282Z",
     "iopub.status.idle": "2025-07-17T06:41:22.556821Z",
     "shell.execute_reply": "2025-07-17T06:41:22.556204Z"
    },
    "papermill": {
     "duration": 0.012563,
     "end_time": "2025-07-17T06:41:22.558464",
     "exception": false,
     "start_time": "2025-07-17T06:41:22.545901",
     "status": "completed"
    },
    "tags": []
   },
   "outputs": [
    {
     "data": {
      "text/plain": [
       "(0.7, 0.3)"
      ]
     },
     "execution_count": 22,
     "metadata": {},
     "output_type": "execute_result"
    }
   ],
   "source": [
    "weight, bias"
   ]
  },
  {
   "cell_type": "code",
   "execution_count": 23,
   "id": "ee698480",
   "metadata": {
    "execution": {
     "iopub.execute_input": "2025-07-17T06:41:22.571955Z",
     "iopub.status.busy": "2025-07-17T06:41:22.571649Z",
     "iopub.status.idle": "2025-07-17T06:41:22.576452Z",
     "shell.execute_reply": "2025-07-17T06:41:22.575412Z"
    },
    "papermill": {
     "duration": 0.012654,
     "end_time": "2025-07-17T06:41:22.577670",
     "exception": false,
     "start_time": "2025-07-17T06:41:22.565016",
     "status": "completed"
    },
    "tags": []
   },
   "outputs": [],
   "source": [
    "with torch.inference_mode():\n",
    "    y_preds_new = model_0(X_test)"
   ]
  },
  {
   "cell_type": "code",
   "execution_count": 24,
   "id": "be2b319e",
   "metadata": {
    "execution": {
     "iopub.execute_input": "2025-07-17T06:41:22.590354Z",
     "iopub.status.busy": "2025-07-17T06:41:22.590088Z",
     "iopub.status.idle": "2025-07-17T06:41:22.793124Z",
     "shell.execute_reply": "2025-07-17T06:41:22.792442Z"
    },
    "papermill": {
     "duration": 0.21031,
     "end_time": "2025-07-17T06:41:22.794246",
     "exception": false,
     "start_time": "2025-07-17T06:41:22.583936",
     "status": "completed"
    },
    "tags": []
   },
   "outputs": [
    {
     "data": {
      "image/png": "[encoded data removed]",
      "text/plain": [
       "<Figure size 1000x700 with 1 Axes>"
      ]
     },
     "metadata": {},
     "output_type": "display_data"
    }
   ],
   "source": [
    "plot_predictions(predictions = y_preds_new);"
   ]
  },
  {
   "cell_type": "code",
   "execution_count": 25,
   "id": "51d173c0",
   "metadata": {
    "execution": {
     "iopub.execute_input": "2025-07-17T06:41:22.807595Z",
     "iopub.status.busy": "2025-07-17T06:41:22.807301Z",
     "iopub.status.idle": "2025-07-17T06:41:22.989595Z",
     "shell.execute_reply": "2025-07-17T06:41:22.988676Z"
    },
    "papermill": {
     "duration": 0.19036,
     "end_time": "2025-07-17T06:41:22.991011",
     "exception": false,
     "start_time": "2025-07-17T06:41:22.800651",
     "status": "completed"
    },
    "tags": []
   },
   "outputs": [
    {
     "data": {
      "image/png": "[encoded data removed]",
      "text/plain": [
       "<Figure size 640x480 with 1 Axes>"
      ]
     },
     "metadata": {},
     "output_type": "display_data"
    }
   ],
   "source": [
    "plt.plot(epoch_count, torch.tensor(loss_values).numpy(), label = \"Train loss\")\n",
    "plt.plot(epoch_count, torch.tensor(test_loss_values).numpy(), label=\"Test loss\")\n",
    "plt.title(\"Training and test los curve\")\n",
    "plt.ylabel(\"Loss\")\n",
    "plt.xlabel(\"Epochs\")\n",
    "plt.legend();"
   ]
  },
  {
   "cell_type": "markdown",
   "id": "961ea037",
   "metadata": {
    "execution": {
     "iopub.execute_input": "2025-07-16T17:19:21.817237Z",
     "iopub.status.busy": "2025-07-16T17:19:21.816456Z",
     "iopub.status.idle": "2025-07-16T17:19:21.820784Z",
     "shell.execute_reply": "2025-07-16T17:19:21.819853Z",
     "shell.execute_reply.started": "2025-07-16T17:19:21.817207Z"
    },
    "papermill": {
     "duration": 0.007081,
     "end_time": "2025-07-17T06:41:23.004895",
     "exception": false,
     "start_time": "2025-07-17T06:41:22.997814",
     "status": "completed"
    },
    "tags": []
   },
   "source": [
    "## Saving a pytorch model:\n",
    "\n",
    "There are three main methods:\n",
    "\n",
    "1. 'torch.save()' - stores the model in pickle format\n",
    "2. 'torch.load()' - loads the model\n",
    "3. 'torch.nn.Module.load_state_dict()' - load saved state dictionary of a model"
   ]
  },
  {
   "cell_type": "code",
   "execution_count": 26,
   "id": "417bb2f4",
   "metadata": {
    "execution": {
     "iopub.execute_input": "2025-07-17T06:41:23.018475Z",
     "iopub.status.busy": "2025-07-17T06:41:23.018196Z",
     "iopub.status.idle": "2025-07-17T06:41:23.024075Z",
     "shell.execute_reply": "2025-07-17T06:41:23.023469Z"
    },
    "papermill": {
     "duration": 0.01387,
     "end_time": "2025-07-17T06:41:23.025076",
     "exception": false,
     "start_time": "2025-07-17T06:41:23.011206",
     "status": "completed"
    },
    "tags": []
   },
   "outputs": [
    {
     "data": {
      "text/plain": [
       "PosixPath('models/01_pytorch_workflow_model_0.pth')"
      ]
     },
     "execution_count": 26,
     "metadata": {},
     "output_type": "execute_result"
    }
   ],
   "source": [
    "from pathlib import Path\n",
    "\n",
    "MODEL_PATH = Path(\"models\")\n",
    "MODEL_PATH.mkdir(parents = True, exist_ok=True)\n",
    "\n",
    "MODEL_NAME = \"01_pytorch_workflow_model_0.pth\"\n",
    "\n",
    "MODEL_SAVE_PATH = MODEL_PATH/MODEL_NAME\n",
    "\n",
    "MODEL_SAVE_PATH"
   ]
  },
  {
   "cell_type": "code",
   "execution_count": 27,
   "id": "74cfcee7",
   "metadata": {
    "execution": {
     "iopub.execute_input": "2025-07-17T06:41:23.106817Z",
     "iopub.status.busy": "2025-07-17T06:41:23.106571Z",
     "iopub.status.idle": "2025-07-17T06:41:23.110947Z",
     "shell.execute_reply": "2025-07-17T06:41:23.110276Z"
    },
    "papermill": {
     "duration": 0.079802,
     "end_time": "2025-07-17T06:41:23.111989",
     "exception": false,
     "start_time": "2025-07-17T06:41:23.032187",
     "status": "completed"
    },
    "tags": []
   },
   "outputs": [],
   "source": [
    "torch.save(obj=model_0.state_dict(),\n",
    "          f = MODEL_SAVE_PATH)"
   ]
  },
  {
   "cell_type": "code",
   "execution_count": 28,
   "id": "e143ce71",
   "metadata": {
    "execution": {
     "iopub.execute_input": "2025-07-17T06:41:23.127369Z",
     "iopub.status.busy": "2025-07-17T06:41:23.127046Z",
     "iopub.status.idle": "2025-07-17T06:41:23.267016Z",
     "shell.execute_reply": "2025-07-17T06:41:23.265913Z"
    },
    "papermill": {
     "duration": 0.149163,
     "end_time": "2025-07-17T06:41:23.268434",
     "exception": false,
     "start_time": "2025-07-17T06:41:23.119271",
     "status": "completed"
    },
    "tags": []
   },
   "outputs": [
    {
     "name": "stdout",
     "output_type": "stream",
     "text": [
      "total 4\r\n",
      "-rw-r--r-- 1 root root 1680 Jul 17 06:41 01_pytorch_workflow_model_0.pth\r\n"
     ]
    }
   ],
   "source": [
    "ls -l models"
   ]
  },
  {
   "cell_type": "markdown",
   "id": "cd15e978",
   "metadata": {
    "papermill": {
     "duration": 0.006225,
     "end_time": "2025-07-17T06:41:23.281816",
     "exception": false,
     "start_time": "2025-07-17T06:41:23.275591",
     "status": "completed"
    },
    "tags": []
   },
   "source": [
    "# Loading a model:\n",
    "\n",
    "We will create a `new instance` of our model and load the saved `state_dict()` into it"
   ]
  },
  {
   "cell_type": "code",
   "execution_count": 29,
   "id": "546ceb00",
   "metadata": {
    "execution": {
     "iopub.execute_input": "2025-07-17T06:41:23.296206Z",
     "iopub.status.busy": "2025-07-17T06:41:23.295890Z",
     "iopub.status.idle": "2025-07-17T06:41:23.304271Z",
     "shell.execute_reply": "2025-07-17T06:41:23.303252Z"
    },
    "papermill": {
     "duration": 0.017572,
     "end_time": "2025-07-17T06:41:23.305830",
     "exception": false,
     "start_time": "2025-07-17T06:41:23.288258",
     "status": "completed"
    },
    "tags": []
   },
   "outputs": [
    {
     "data": {
      "text/plain": [
       "OrderedDict([('weights', tensor([0.6944])), ('bias', tensor([0.3096]))])"
      ]
     },
     "execution_count": 29,
     "metadata": {},
     "output_type": "execute_result"
    }
   ],
   "source": [
    "model_0.state_dict()"
   ]
  },
  {
   "cell_type": "code",
   "execution_count": 30,
   "id": "01a5f6cc",
   "metadata": {
    "execution": {
     "iopub.execute_input": "2025-07-17T06:41:23.321856Z",
     "iopub.status.busy": "2025-07-17T06:41:23.321525Z",
     "iopub.status.idle": "2025-07-17T06:41:23.329505Z",
     "shell.execute_reply": "2025-07-17T06:41:23.328731Z"
    },
    "papermill": {
     "duration": 0.017528,
     "end_time": "2025-07-17T06:41:23.330989",
     "exception": false,
     "start_time": "2025-07-17T06:41:23.313461",
     "status": "completed"
    },
    "tags": []
   },
   "outputs": [
    {
     "data": {
      "text/plain": [
       "OrderedDict([('weights', tensor([0.2345])), ('bias', tensor([0.2303]))])"
      ]
     },
     "execution_count": 30,
     "metadata": {},
     "output_type": "execute_result"
    }
   ],
   "source": [
    "loaded_model_0 = LinearRegressionModel()\n",
    "loaded_model_0.state_dict()"
   ]
  },
  {
   "cell_type": "code",
   "execution_count": 31,
   "id": "c819255c",
   "metadata": {
    "execution": {
     "iopub.execute_input": "2025-07-17T06:41:23.346691Z",
     "iopub.status.busy": "2025-07-17T06:41:23.346368Z",
     "iopub.status.idle": "2025-07-17T06:41:23.355843Z",
     "shell.execute_reply": "2025-07-17T06:41:23.354951Z"
    },
    "papermill": {
     "duration": 0.018976,
     "end_time": "2025-07-17T06:41:23.357398",
     "exception": false,
     "start_time": "2025-07-17T06:41:23.338422",
     "status": "completed"
    },
    "tags": []
   },
   "outputs": [
    {
     "data": {
      "text/plain": [
       "<All keys matched successfully>"
      ]
     },
     "execution_count": 31,
     "metadata": {},
     "output_type": "execute_result"
    }
   ],
   "source": [
    "loaded_model_0.load_state_dict(torch.load(f=MODEL_SAVE_PATH))"
   ]
  },
  {
   "cell_type": "code",
   "execution_count": 32,
   "id": "cd11a4d1",
   "metadata": {
    "execution": {
     "iopub.execute_input": "2025-07-17T06:41:23.373039Z",
     "iopub.status.busy": "2025-07-17T06:41:23.372774Z",
     "iopub.status.idle": "2025-07-17T06:41:23.379541Z",
     "shell.execute_reply": "2025-07-17T06:41:23.378820Z"
    },
    "papermill": {
     "duration": 0.01588,
     "end_time": "2025-07-17T06:41:23.380958",
     "exception": false,
     "start_time": "2025-07-17T06:41:23.365078",
     "status": "completed"
    },
    "tags": []
   },
   "outputs": [
    {
     "data": {
      "text/plain": [
       "OrderedDict([('weights', tensor([0.6944])), ('bias', tensor([0.3096]))])"
      ]
     },
     "execution_count": 32,
     "metadata": {},
     "output_type": "execute_result"
    }
   ],
   "source": [
    "loaded_model_0.state_dict()"
   ]
  },
  {
   "cell_type": "code",
   "execution_count": 33,
   "id": "ef3e8842",
   "metadata": {
    "execution": {
     "iopub.execute_input": "2025-07-17T06:41:23.396463Z",
     "iopub.status.busy": "2025-07-17T06:41:23.396222Z",
     "iopub.status.idle": "2025-07-17T06:41:23.402430Z",
     "shell.execute_reply": "2025-07-17T06:41:23.401751Z"
    },
    "papermill": {
     "duration": 0.014945,
     "end_time": "2025-07-17T06:41:23.403611",
     "exception": false,
     "start_time": "2025-07-17T06:41:23.388666",
     "status": "completed"
    },
    "tags": []
   },
   "outputs": [
    {
     "data": {
      "text/plain": [
       "tensor([[0.8651],\n",
       "        [0.8790],\n",
       "        [0.8929],\n",
       "        [0.9068],\n",
       "        [0.9207],\n",
       "        [0.9346],\n",
       "        [0.9485],\n",
       "        [0.9624],\n",
       "        [0.9762],\n",
       "        [0.9901]])"
      ]
     },
     "execution_count": 33,
     "metadata": {},
     "output_type": "execute_result"
    }
   ],
   "source": [
    "loaded_model_0.eval()\n",
    "with torch.inference_mode():\n",
    "    loaded_model_preds = loaded_model_0(X_test)\n",
    "loaded_model_preds"
   ]
  },
  {
   "cell_type": "code",
   "execution_count": 34,
   "id": "043e0d32",
   "metadata": {
    "execution": {
     "iopub.execute_input": "2025-07-17T06:41:23.418815Z",
     "iopub.status.busy": "2025-07-17T06:41:23.418564Z",
     "iopub.status.idle": "2025-07-17T06:41:23.424001Z",
     "shell.execute_reply": "2025-07-17T06:41:23.423381Z"
    },
    "papermill": {
     "duration": 0.013991,
     "end_time": "2025-07-17T06:41:23.424981",
     "exception": false,
     "start_time": "2025-07-17T06:41:23.410990",
     "status": "completed"
    },
    "tags": []
   },
   "outputs": [
    {
     "data": {
      "text/plain": [
       "tensor([[0.8600],\n",
       "        [0.8740],\n",
       "        [0.8880],\n",
       "        [0.9020],\n",
       "        [0.9160],\n",
       "        [0.9300],\n",
       "        [0.9440],\n",
       "        [0.9580],\n",
       "        [0.9720],\n",
       "        [0.9860]])"
      ]
     },
     "execution_count": 34,
     "metadata": {},
     "output_type": "execute_result"
    }
   ],
   "source": [
    "y_test"
   ]
  },
  {
   "cell_type": "markdown",
   "id": "8fdefebd",
   "metadata": {
    "papermill": {
     "duration": 0.007239,
     "end_time": "2025-07-17T06:41:23.439446",
     "exception": false,
     "start_time": "2025-07-17T06:41:23.432207",
     "status": "completed"
    },
    "tags": []
   },
   "source": [
    "## Another way to make the LinearRegressionModel:\n",
    "\n",
    "\n",
    "```python\n",
    "class LinearRegressionModel(nn.Module):\n",
    "    \n",
    "    def __init__(self):\n",
    "        super().__init__()\n",
    "        self.linear_layer(in_features=1,\n",
    "                          out_features=1)\n",
    "        \n",
    "    def forward(self, X:torch.Tensor):\n",
    "        return self.linear_layers(x)\n",
    "```"
   ]
  },
  {
   "cell_type": "code",
   "execution_count": null,
   "id": "b1d02776",
   "metadata": {
    "papermill": {
     "duration": 0.006549,
     "end_time": "2025-07-17T06:41:23.453786",
     "exception": false,
     "start_time": "2025-07-17T06:41:23.447237",
     "status": "completed"
    },
    "tags": []
   },
   "outputs": [],
   "source": []
  }
 ],
 "metadata": {
  "kaggle": {
   "accelerator": "none",
   "dataSources": [],
   "dockerImageVersionId": 31090,
   "isGpuEnabled": false,
   "isInternetEnabled": true,
   "language": "python",
   "sourceType": "notebook"
  },
  "kernelspec": {
   "display_name": "Python 3",
   "language": "python",
   "name": "python3"
  },
  "language_info": {
   "codemirror_mode": {
    "name": "ipython",
    "version": 3
   },
   "file_extension": ".py",
   "mimetype": "text/x-python",
   "name": "python",
   "nbconvert_exporter": "python",
   "pygments_lexer": "ipython3",
   "version": "3.11.13"
  },
  "papermill": {
   "default_parameters": {},
   "duration": 21.006069,
   "end_time": "2025-07-17T06:41:26.397606",
   "environment_variables": {},
   "exception": null,
   "input_path": "__notebook__.ipynb",
   "output_path": "__notebook__.ipynb",
   "parameters": {},
   "start_time": "2025-07-17T06:41:05.391537",
   "version": "2.6.0"
  }
 },
 "nbformat": 4,
 "nbformat_minor": 5
}
